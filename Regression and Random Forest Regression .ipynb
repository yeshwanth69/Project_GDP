{
 "cells": [
  {
   "cell_type": "code",
   "execution_count": 1,
   "metadata": {},
   "outputs": [],
   "source": [
    "import numpy as np\n",
    "import pandas as pd\n",
    "import matplotlib.pyplot as plt\n",
    "import seaborn as sns\n",
    "from sklearn.model_selection import train_test_split\n",
    "from sklearn import linear_model\n",
    "from sklearn.metrics import mean_squared_error, r2_score, mean_absolute_error\n",
    "from scipy import stats\n",
    "import statsmodels.api as sm\n",
    "from statsmodels.stats import diagnostic as diag\n",
    "from statsmodels.stats.outliers_influence import variance_inflation_factor\n",
    "from sklearn.preprocessing import PolynomialFeatures\n",
    "from sklearn.preprocessing import StandardScaler\n",
    "from sklearn.pipeline import Pipeline\n",
    "import warnings"
   ]
  },
  {
   "cell_type": "code",
   "execution_count": 2,
   "metadata": {},
   "outputs": [
    {
     "data": {
      "text/html": [
       "<div>\n",
       "<style scoped>\n",
       "    .dataframe tbody tr th:only-of-type {\n",
       "        vertical-align: middle;\n",
       "    }\n",
       "\n",
       "    .dataframe tbody tr th {\n",
       "        vertical-align: top;\n",
       "    }\n",
       "\n",
       "    .dataframe thead th {\n",
       "        text-align: right;\n",
       "    }\n",
       "</style>\n",
       "<table border=\"1\" class=\"dataframe\">\n",
       "  <thead>\n",
       "    <tr style=\"text-align: right;\">\n",
       "      <th></th>\n",
       "      <th>Year</th>\n",
       "      <th>GDP(billions)</th>\n",
       "      <th>Human Development Index</th>\n",
       "      <th>Inflation Index</th>\n",
       "      <th>Credit Transfers (in million)</th>\n",
       "      <th>Direct Debits (in million)</th>\n",
       "      <th>Cheques (in million)</th>\n",
       "      <th>Card &amp; e-money (in million)</th>\n",
       "      <th>Total digital-payments</th>\n",
       "    </tr>\n",
       "  </thead>\n",
       "  <tbody>\n",
       "    <tr>\n",
       "      <th>0</th>\n",
       "      <td>2012</td>\n",
       "      <td>1827.64</td>\n",
       "      <td>0.600</td>\n",
       "      <td>108.983</td>\n",
       "      <td>518</td>\n",
       "      <td>177</td>\n",
       "      <td>1313</td>\n",
       "      <td>947</td>\n",
       "      <td>1642</td>\n",
       "    </tr>\n",
       "    <tr>\n",
       "      <th>1</th>\n",
       "      <td>2013</td>\n",
       "      <td>1856.72</td>\n",
       "      <td>0.607</td>\n",
       "      <td>119.227</td>\n",
       "      <td>915</td>\n",
       "      <td>193</td>\n",
       "      <td>1257</td>\n",
       "      <td>1279</td>\n",
       "      <td>2387</td>\n",
       "    </tr>\n",
       "    <tr>\n",
       "      <th>2</th>\n",
       "      <td>2014</td>\n",
       "      <td>2039.13</td>\n",
       "      <td>0.616</td>\n",
       "      <td>126.142</td>\n",
       "      <td>1457</td>\n",
       "      <td>230</td>\n",
       "      <td>1197</td>\n",
       "      <td>1760</td>\n",
       "      <td>3447</td>\n",
       "    </tr>\n",
       "    <tr>\n",
       "      <th>3</th>\n",
       "      <td>2015</td>\n",
       "      <td>2103.59</td>\n",
       "      <td>0.624</td>\n",
       "      <td>132.323</td>\n",
       "      <td>2874</td>\n",
       "      <td>289</td>\n",
       "      <td>1096</td>\n",
       "      <td>2736</td>\n",
       "      <td>5899</td>\n",
       "    </tr>\n",
       "    <tr>\n",
       "      <th>4</th>\n",
       "      <td>2016</td>\n",
       "      <td>2294.12</td>\n",
       "      <td>0.636</td>\n",
       "      <td>138.278</td>\n",
       "      <td>3858</td>\n",
       "      <td>365</td>\n",
       "      <td>1207</td>\n",
       "      <td>5497</td>\n",
       "      <td>9720</td>\n",
       "    </tr>\n",
       "    <tr>\n",
       "      <th>5</th>\n",
       "      <td>2017</td>\n",
       "      <td>2651.46</td>\n",
       "      <td>0.640</td>\n",
       "      <td>143.259</td>\n",
       "      <td>5879</td>\n",
       "      <td>379</td>\n",
       "      <td>1171</td>\n",
       "      <td>8258</td>\n",
       "      <td>14516</td>\n",
       "    </tr>\n",
       "    <tr>\n",
       "      <th>6</th>\n",
       "      <td>2018</td>\n",
       "      <td>2701.11</td>\n",
       "      <td>0.642</td>\n",
       "      <td>148.171</td>\n",
       "      <td>11854</td>\n",
       "      <td>534</td>\n",
       "      <td>1124</td>\n",
       "      <td>10839</td>\n",
       "      <td>23227</td>\n",
       "    </tr>\n",
       "    <tr>\n",
       "      <th>7</th>\n",
       "      <td>2019</td>\n",
       "      <td>2870.50</td>\n",
       "      <td>0.645</td>\n",
       "      <td>155.227</td>\n",
       "      <td>18486</td>\n",
       "      <td>826</td>\n",
       "      <td>1070</td>\n",
       "      <td>12313</td>\n",
       "      <td>31625</td>\n",
       "    </tr>\n",
       "  </tbody>\n",
       "</table>\n",
       "</div>"
      ],
      "text/plain": [
       "   Year  GDP(billions)  Human Development Index  Inflation Index  \\\n",
       "0  2012        1827.64                    0.600          108.983   \n",
       "1  2013        1856.72                    0.607          119.227   \n",
       "2  2014        2039.13                    0.616          126.142   \n",
       "3  2015        2103.59                    0.624          132.323   \n",
       "4  2016        2294.12                    0.636          138.278   \n",
       "5  2017        2651.46                    0.640          143.259   \n",
       "6  2018        2701.11                    0.642          148.171   \n",
       "7  2019        2870.50                    0.645          155.227   \n",
       "\n",
       "   Credit Transfers (in million)  Direct Debits (in million)  \\\n",
       "0                            518                         177   \n",
       "1                            915                         193   \n",
       "2                           1457                         230   \n",
       "3                           2874                         289   \n",
       "4                           3858                         365   \n",
       "5                           5879                         379   \n",
       "6                          11854                         534   \n",
       "7                          18486                         826   \n",
       "\n",
       "   Cheques (in million)  Card & e-money (in million)  Total digital-payments  \n",
       "0                  1313                          947                    1642  \n",
       "1                  1257                         1279                    2387  \n",
       "2                  1197                         1760                    3447  \n",
       "3                  1096                         2736                    5899  \n",
       "4                  1207                         5497                    9720  \n",
       "5                  1171                         8258                   14516  \n",
       "6                  1124                        10839                   23227  \n",
       "7                  1070                        12313                   31625  "
      ]
     },
     "execution_count": 2,
     "metadata": {},
     "output_type": "execute_result"
    }
   ],
   "source": [
    "#The below code is used to load the dataset.\n",
    "data = pd.read_excel('IND.xlsx')\n",
    "data"
   ]
  },
  {
   "cell_type": "code",
   "execution_count": 3,
   "metadata": {},
   "outputs": [],
   "source": [
    "%matplotlib inline"
   ]
  },
  {
   "cell_type": "code",
   "execution_count": 4,
   "metadata": {},
   "outputs": [
    {
     "data": {
      "text/plain": [
       "Year                             8\n",
       "GDP(billions)                    8\n",
       "Human Development Index          8\n",
       "Inflation Index                  8\n",
       "Credit Transfers (in million)    8\n",
       "Direct Debits (in million)       8\n",
       "Cheques (in million)             8\n",
       "Card & e-money (in million)      8\n",
       "Total digital-payments           8\n",
       "dtype: int64"
      ]
     },
     "execution_count": 4,
     "metadata": {},
     "output_type": "execute_result"
    }
   ],
   "source": [
    "# Count Rows\n",
    "data.count()"
   ]
  },
  {
   "cell_type": "markdown",
   "metadata": {},
   "source": [
    "### By this we will know the data and understand what kind of data it is."
   ]
  },
  {
   "cell_type": "code",
   "execution_count": 5,
   "metadata": {},
   "outputs": [
    {
     "name": "stdout",
     "output_type": "stream",
     "text": [
      "<class 'pandas.core.frame.DataFrame'>\n",
      "RangeIndex: 8 entries, 0 to 7\n",
      "Data columns (total 9 columns):\n",
      " #   Column                         Non-Null Count  Dtype  \n",
      "---  ------                         --------------  -----  \n",
      " 0   Year                           8 non-null      int64  \n",
      " 1   GDP(billions)                  8 non-null      float64\n",
      " 2   Human Development Index        8 non-null      float64\n",
      " 3   Inflation Index                8 non-null      float64\n",
      " 4   Credit Transfers (in million)  8 non-null      int64  \n",
      " 5   Direct Debits (in million)     8 non-null      int64  \n",
      " 6   Cheques (in million)           8 non-null      int64  \n",
      " 7   Card & e-money (in million)    8 non-null      int64  \n",
      " 8   Total digital-payments         8 non-null      int64  \n",
      "dtypes: float64(3), int64(6)\n",
      "memory usage: 704.0 bytes\n"
     ]
    },
    {
     "data": {
      "text/html": [
       "<div>\n",
       "<style scoped>\n",
       "    .dataframe tbody tr th:only-of-type {\n",
       "        vertical-align: middle;\n",
       "    }\n",
       "\n",
       "    .dataframe tbody tr th {\n",
       "        vertical-align: top;\n",
       "    }\n",
       "\n",
       "    .dataframe thead th {\n",
       "        text-align: right;\n",
       "    }\n",
       "</style>\n",
       "<table border=\"1\" class=\"dataframe\">\n",
       "  <thead>\n",
       "    <tr style=\"text-align: right;\">\n",
       "      <th></th>\n",
       "      <th>Year</th>\n",
       "      <th>GDP(billions)</th>\n",
       "      <th>Human Development Index</th>\n",
       "      <th>Inflation Index</th>\n",
       "      <th>Credit Transfers (in million)</th>\n",
       "      <th>Direct Debits (in million)</th>\n",
       "      <th>Cheques (in million)</th>\n",
       "      <th>Card &amp; e-money (in million)</th>\n",
       "      <th>Total digital-payments</th>\n",
       "    </tr>\n",
       "  </thead>\n",
       "  <tbody>\n",
       "    <tr>\n",
       "      <th>count</th>\n",
       "      <td>8.00000</td>\n",
       "      <td>8.000000</td>\n",
       "      <td>8.000000</td>\n",
       "      <td>8.000000</td>\n",
       "      <td>8.000000</td>\n",
       "      <td>8.000000</td>\n",
       "      <td>8.000000</td>\n",
       "      <td>8.000000</td>\n",
       "      <td>8.000000</td>\n",
       "    </tr>\n",
       "    <tr>\n",
       "      <th>mean</th>\n",
       "      <td>2015.50000</td>\n",
       "      <td>2293.033750</td>\n",
       "      <td>0.626250</td>\n",
       "      <td>133.951250</td>\n",
       "      <td>5730.125000</td>\n",
       "      <td>374.125000</td>\n",
       "      <td>1179.375000</td>\n",
       "      <td>5453.625000</td>\n",
       "      <td>11557.875000</td>\n",
       "    </tr>\n",
       "    <tr>\n",
       "      <th>std</th>\n",
       "      <td>2.44949</td>\n",
       "      <td>402.808202</td>\n",
       "      <td>0.017128</td>\n",
       "      <td>15.418294</td>\n",
       "      <td>6330.311783</td>\n",
       "      <td>216.972966</td>\n",
       "      <td>81.945866</td>\n",
       "      <td>4514.820102</td>\n",
       "      <td>10897.083207</td>\n",
       "    </tr>\n",
       "    <tr>\n",
       "      <th>min</th>\n",
       "      <td>2012.00000</td>\n",
       "      <td>1827.640000</td>\n",
       "      <td>0.600000</td>\n",
       "      <td>108.983000</td>\n",
       "      <td>518.000000</td>\n",
       "      <td>177.000000</td>\n",
       "      <td>1070.000000</td>\n",
       "      <td>947.000000</td>\n",
       "      <td>1642.000000</td>\n",
       "    </tr>\n",
       "    <tr>\n",
       "      <th>25%</th>\n",
       "      <td>2013.75000</td>\n",
       "      <td>1993.527500</td>\n",
       "      <td>0.613750</td>\n",
       "      <td>124.413250</td>\n",
       "      <td>1321.500000</td>\n",
       "      <td>220.750000</td>\n",
       "      <td>1117.000000</td>\n",
       "      <td>1639.750000</td>\n",
       "      <td>3182.000000</td>\n",
       "    </tr>\n",
       "    <tr>\n",
       "      <th>50%</th>\n",
       "      <td>2015.50000</td>\n",
       "      <td>2198.855000</td>\n",
       "      <td>0.630000</td>\n",
       "      <td>135.300500</td>\n",
       "      <td>3366.000000</td>\n",
       "      <td>327.000000</td>\n",
       "      <td>1184.000000</td>\n",
       "      <td>4116.500000</td>\n",
       "      <td>7809.500000</td>\n",
       "    </tr>\n",
       "    <tr>\n",
       "      <th>75%</th>\n",
       "      <td>2017.25000</td>\n",
       "      <td>2663.872500</td>\n",
       "      <td>0.640500</td>\n",
       "      <td>144.487000</td>\n",
       "      <td>7372.750000</td>\n",
       "      <td>417.750000</td>\n",
       "      <td>1219.500000</td>\n",
       "      <td>8903.250000</td>\n",
       "      <td>16693.750000</td>\n",
       "    </tr>\n",
       "    <tr>\n",
       "      <th>max</th>\n",
       "      <td>2019.00000</td>\n",
       "      <td>2870.500000</td>\n",
       "      <td>0.645000</td>\n",
       "      <td>155.227000</td>\n",
       "      <td>18486.000000</td>\n",
       "      <td>826.000000</td>\n",
       "      <td>1313.000000</td>\n",
       "      <td>12313.000000</td>\n",
       "      <td>31625.000000</td>\n",
       "    </tr>\n",
       "  </tbody>\n",
       "</table>\n",
       "</div>"
      ],
      "text/plain": [
       "             Year  GDP(billions)  Human Development Index  Inflation Index  \\\n",
       "count     8.00000       8.000000                 8.000000         8.000000   \n",
       "mean   2015.50000    2293.033750                 0.626250       133.951250   \n",
       "std       2.44949     402.808202                 0.017128        15.418294   \n",
       "min    2012.00000    1827.640000                 0.600000       108.983000   \n",
       "25%    2013.75000    1993.527500                 0.613750       124.413250   \n",
       "50%    2015.50000    2198.855000                 0.630000       135.300500   \n",
       "75%    2017.25000    2663.872500                 0.640500       144.487000   \n",
       "max    2019.00000    2870.500000                 0.645000       155.227000   \n",
       "\n",
       "       Credit Transfers (in million)  Direct Debits (in million)  \\\n",
       "count                       8.000000                    8.000000   \n",
       "mean                     5730.125000                  374.125000   \n",
       "std                      6330.311783                  216.972966   \n",
       "min                       518.000000                  177.000000   \n",
       "25%                      1321.500000                  220.750000   \n",
       "50%                      3366.000000                  327.000000   \n",
       "75%                      7372.750000                  417.750000   \n",
       "max                     18486.000000                  826.000000   \n",
       "\n",
       "       Cheques (in million)  Card & e-money (in million)  \\\n",
       "count              8.000000                     8.000000   \n",
       "mean            1179.375000                  5453.625000   \n",
       "std               81.945866                  4514.820102   \n",
       "min             1070.000000                   947.000000   \n",
       "25%             1117.000000                  1639.750000   \n",
       "50%             1184.000000                  4116.500000   \n",
       "75%             1219.500000                  8903.250000   \n",
       "max             1313.000000                 12313.000000   \n",
       "\n",
       "       Total digital-payments  \n",
       "count                8.000000  \n",
       "mean             11557.875000  \n",
       "std              10897.083207  \n",
       "min               1642.000000  \n",
       "25%               3182.000000  \n",
       "50%               7809.500000  \n",
       "75%              16693.750000  \n",
       "max              31625.000000  "
      ]
     },
     "execution_count": 5,
     "metadata": {},
     "output_type": "execute_result"
    }
   ],
   "source": [
    "data.info()\n",
    "data.describe()"
   ]
  },
  {
   "cell_type": "markdown",
   "metadata": {},
   "source": [
    "### WE are calculating the correlation table for all the variables."
   ]
  },
  {
   "cell_type": "code",
   "execution_count": 6,
   "metadata": {},
   "outputs": [
    {
     "data": {
      "text/html": [
       "<div>\n",
       "<style scoped>\n",
       "    .dataframe tbody tr th:only-of-type {\n",
       "        vertical-align: middle;\n",
       "    }\n",
       "\n",
       "    .dataframe tbody tr th {\n",
       "        vertical-align: top;\n",
       "    }\n",
       "\n",
       "    .dataframe thead th {\n",
       "        text-align: right;\n",
       "    }\n",
       "</style>\n",
       "<table border=\"1\" class=\"dataframe\">\n",
       "  <thead>\n",
       "    <tr style=\"text-align: right;\">\n",
       "      <th></th>\n",
       "      <th>Year</th>\n",
       "      <th>GDP(billions)</th>\n",
       "      <th>Human Development Index</th>\n",
       "      <th>Inflation Index</th>\n",
       "      <th>Credit Transfers (in million)</th>\n",
       "      <th>Direct Debits (in million)</th>\n",
       "      <th>Cheques (in million)</th>\n",
       "      <th>Card &amp; e-money (in million)</th>\n",
       "      <th>Total digital-payments</th>\n",
       "    </tr>\n",
       "  </thead>\n",
       "  <tbody>\n",
       "    <tr>\n",
       "      <th>Year</th>\n",
       "      <td>1.000000</td>\n",
       "      <td>0.980892</td>\n",
       "      <td>0.977259</td>\n",
       "      <td>0.994320</td>\n",
       "      <td>0.896983</td>\n",
       "      <td>0.910004</td>\n",
       "      <td>-0.830202</td>\n",
       "      <td>0.966355</td>\n",
       "      <td>0.939568</td>\n",
       "    </tr>\n",
       "    <tr>\n",
       "      <th>GDP(billions)</th>\n",
       "      <td>0.980892</td>\n",
       "      <td>1.000000</td>\n",
       "      <td>0.949142</td>\n",
       "      <td>0.960690</td>\n",
       "      <td>0.900262</td>\n",
       "      <td>0.901306</td>\n",
       "      <td>-0.750745</td>\n",
       "      <td>0.984692</td>\n",
       "      <td>0.948897</td>\n",
       "    </tr>\n",
       "    <tr>\n",
       "      <th>Human Development Index</th>\n",
       "      <td>0.977259</td>\n",
       "      <td>0.949142</td>\n",
       "      <td>1.000000</td>\n",
       "      <td>0.982180</td>\n",
       "      <td>0.789434</td>\n",
       "      <td>0.818752</td>\n",
       "      <td>-0.790220</td>\n",
       "      <td>0.914561</td>\n",
       "      <td>0.853815</td>\n",
       "    </tr>\n",
       "    <tr>\n",
       "      <th>Inflation Index</th>\n",
       "      <td>0.994320</td>\n",
       "      <td>0.960690</td>\n",
       "      <td>0.982180</td>\n",
       "      <td>1.000000</td>\n",
       "      <td>0.864751</td>\n",
       "      <td>0.885927</td>\n",
       "      <td>-0.854126</td>\n",
       "      <td>0.935953</td>\n",
       "      <td>0.907768</td>\n",
       "    </tr>\n",
       "    <tr>\n",
       "      <th>Credit Transfers (in million)</th>\n",
       "      <td>0.896983</td>\n",
       "      <td>0.900262</td>\n",
       "      <td>0.789434</td>\n",
       "      <td>0.864751</td>\n",
       "      <td>1.000000</td>\n",
       "      <td>0.990114</td>\n",
       "      <td>-0.742090</td>\n",
       "      <td>0.939454</td>\n",
       "      <td>0.989862</td>\n",
       "    </tr>\n",
       "    <tr>\n",
       "      <th>Direct Debits (in million)</th>\n",
       "      <td>0.910004</td>\n",
       "      <td>0.901306</td>\n",
       "      <td>0.818752</td>\n",
       "      <td>0.885927</td>\n",
       "      <td>0.990114</td>\n",
       "      <td>1.000000</td>\n",
       "      <td>-0.758582</td>\n",
       "      <td>0.930709</td>\n",
       "      <td>0.980693</td>\n",
       "    </tr>\n",
       "    <tr>\n",
       "      <th>Cheques (in million)</th>\n",
       "      <td>-0.830202</td>\n",
       "      <td>-0.750745</td>\n",
       "      <td>-0.790220</td>\n",
       "      <td>-0.854126</td>\n",
       "      <td>-0.742090</td>\n",
       "      <td>-0.758582</td>\n",
       "      <td>1.000000</td>\n",
       "      <td>-0.708750</td>\n",
       "      <td>-0.739843</td>\n",
       "    </tr>\n",
       "    <tr>\n",
       "      <th>Card &amp; e-money (in million)</th>\n",
       "      <td>0.966355</td>\n",
       "      <td>0.984692</td>\n",
       "      <td>0.914561</td>\n",
       "      <td>0.935953</td>\n",
       "      <td>0.939454</td>\n",
       "      <td>0.930709</td>\n",
       "      <td>-0.708750</td>\n",
       "      <td>1.000000</td>\n",
       "      <td>0.978592</td>\n",
       "    </tr>\n",
       "    <tr>\n",
       "      <th>Total digital-payments</th>\n",
       "      <td>0.939568</td>\n",
       "      <td>0.948897</td>\n",
       "      <td>0.853815</td>\n",
       "      <td>0.907768</td>\n",
       "      <td>0.989862</td>\n",
       "      <td>0.980693</td>\n",
       "      <td>-0.739843</td>\n",
       "      <td>0.978592</td>\n",
       "      <td>1.000000</td>\n",
       "    </tr>\n",
       "  </tbody>\n",
       "</table>\n",
       "</div>"
      ],
      "text/plain": [
       "                                   Year  GDP(billions)  \\\n",
       "Year                           1.000000       0.980892   \n",
       "GDP(billions)                  0.980892       1.000000   \n",
       "Human Development Index        0.977259       0.949142   \n",
       "Inflation Index                0.994320       0.960690   \n",
       "Credit Transfers (in million)  0.896983       0.900262   \n",
       "Direct Debits (in million)     0.910004       0.901306   \n",
       "Cheques (in million)          -0.830202      -0.750745   \n",
       "Card & e-money (in million)    0.966355       0.984692   \n",
       "Total digital-payments         0.939568       0.948897   \n",
       "\n",
       "                               Human Development Index  Inflation Index  \\\n",
       "Year                                          0.977259         0.994320   \n",
       "GDP(billions)                                 0.949142         0.960690   \n",
       "Human Development Index                       1.000000         0.982180   \n",
       "Inflation Index                               0.982180         1.000000   \n",
       "Credit Transfers (in million)                 0.789434         0.864751   \n",
       "Direct Debits (in million)                    0.818752         0.885927   \n",
       "Cheques (in million)                         -0.790220        -0.854126   \n",
       "Card & e-money (in million)                   0.914561         0.935953   \n",
       "Total digital-payments                        0.853815         0.907768   \n",
       "\n",
       "                               Credit Transfers (in million)  \\\n",
       "Year                                                0.896983   \n",
       "GDP(billions)                                       0.900262   \n",
       "Human Development Index                             0.789434   \n",
       "Inflation Index                                     0.864751   \n",
       "Credit Transfers (in million)                       1.000000   \n",
       "Direct Debits (in million)                          0.990114   \n",
       "Cheques (in million)                               -0.742090   \n",
       "Card & e-money (in million)                         0.939454   \n",
       "Total digital-payments                              0.989862   \n",
       "\n",
       "                               Direct Debits (in million)  \\\n",
       "Year                                             0.910004   \n",
       "GDP(billions)                                    0.901306   \n",
       "Human Development Index                          0.818752   \n",
       "Inflation Index                                  0.885927   \n",
       "Credit Transfers (in million)                    0.990114   \n",
       "Direct Debits (in million)                       1.000000   \n",
       "Cheques (in million)                            -0.758582   \n",
       "Card & e-money (in million)                      0.930709   \n",
       "Total digital-payments                           0.980693   \n",
       "\n",
       "                               Cheques (in million)  \\\n",
       "Year                                      -0.830202   \n",
       "GDP(billions)                             -0.750745   \n",
       "Human Development Index                   -0.790220   \n",
       "Inflation Index                           -0.854126   \n",
       "Credit Transfers (in million)             -0.742090   \n",
       "Direct Debits (in million)                -0.758582   \n",
       "Cheques (in million)                       1.000000   \n",
       "Card & e-money (in million)               -0.708750   \n",
       "Total digital-payments                    -0.739843   \n",
       "\n",
       "                               Card & e-money (in million)  \\\n",
       "Year                                              0.966355   \n",
       "GDP(billions)                                     0.984692   \n",
       "Human Development Index                           0.914561   \n",
       "Inflation Index                                   0.935953   \n",
       "Credit Transfers (in million)                     0.939454   \n",
       "Direct Debits (in million)                        0.930709   \n",
       "Cheques (in million)                             -0.708750   \n",
       "Card & e-money (in million)                       1.000000   \n",
       "Total digital-payments                            0.978592   \n",
       "\n",
       "                               Total digital-payments  \n",
       "Year                                         0.939568  \n",
       "GDP(billions)                                0.948897  \n",
       "Human Development Index                      0.853815  \n",
       "Inflation Index                              0.907768  \n",
       "Credit Transfers (in million)                0.989862  \n",
       "Direct Debits (in million)                   0.980693  \n",
       "Cheques (in million)                        -0.739843  \n",
       "Card & e-money (in million)                  0.978592  \n",
       "Total digital-payments                       1.000000  "
      ]
     },
     "execution_count": 6,
     "metadata": {},
     "output_type": "execute_result"
    }
   ],
   "source": [
    "corr = data.corr().iloc[0:9,0:9]\n",
    "corr"
   ]
  },
  {
   "cell_type": "code",
   "execution_count": 7,
   "metadata": {},
   "outputs": [
    {
     "data": {
      "text/plain": [
       "Year                             0\n",
       "GDP(billions)                    0\n",
       "Human Development Index          0\n",
       "Inflation Index                  0\n",
       "Credit Transfers (in million)    0\n",
       "Direct Debits (in million)       0\n",
       "Cheques (in million)             0\n",
       "Card & e-money (in million)      0\n",
       "Total digital-payments           0\n",
       "dtype: int64"
      ]
     },
     "execution_count": 7,
     "metadata": {},
     "output_type": "execute_result"
    }
   ],
   "source": [
    "data.isnull().sum() #says about null values and gaps in dataset. there are no null values."
   ]
  },
  {
   "cell_type": "code",
   "execution_count": 8,
   "metadata": {},
   "outputs": [
    {
     "data": {
      "text/plain": [
       "Text(0, 0.5, 'GDP(billions)')"
      ]
     },
     "execution_count": 8,
     "metadata": {},
     "output_type": "execute_result"
    },
    {
     "data": {
      "image/png": "[encoded data removed]",
      "text/plain": [
       "<Figure size 720x360 with 1 Axes>"
      ]
     },
     "metadata": {
      "needs_background": "light"
     },
     "output_type": "display_data"
    }
   ],
   "source": [
    "plt.figure(figsize=(10,5))\n",
    "plt.scatter(x=data['Year'],y=data['GDP(billions)'])\n",
    "plt.title('Year  vs GDP(billions)')\n",
    "plt.xlabel('Year')\n",
    "plt.ylabel('GDP(billions)')"
   ]
  },
  {
   "cell_type": "code",
   "execution_count": 9,
   "metadata": {},
   "outputs": [
    {
     "data": {
      "image/png": "[encoded data removed]",
      "text/plain": [
       "<Figure size 432x288 with 2 Axes>"
      ]
     },
     "metadata": {
      "needs_background": "light"
     },
     "output_type": "display_data"
    },
    {
     "name": "stdout",
     "output_type": "stream",
     "text": [
      "By the graph we can see there is 98% corelation between Year and GDP(billions)\n",
      "the above theme is che guevara captain theme\n"
     ]
    }
   ],
   "source": [
    "relation = data.corr().iloc[0:2,0:2]\n",
    "sns.heatmap(relation, annot=True, cmap='autumn') \n",
    "plt.show()\n",
    "print('By the graph we can see there is 98% corelation between Year and GDP(billions)')\n",
    "print('the above theme is che guevara captain theme')"
   ]
  },
  {
   "cell_type": "code",
   "execution_count": 10,
   "metadata": {},
   "outputs": [
    {
     "data": {
      "text/plain": [
       "Text(0, 0.5, 'GDP(billions)')"
      ]
     },
     "execution_count": 10,
     "metadata": {},
     "output_type": "execute_result"
    },
    {
     "data": {
      "image/png": "[encoded data removed]",
      "text/plain": [
       "<Figure size 432x288 with 1 Axes>"
      ]
     },
     "metadata": {
      "needs_background": "light"
     },
     "output_type": "display_data"
    }
   ],
   "source": [
    "sns.regplot(x=data['Year'],y=data['GDP(billions)'],data=data)\n",
    "plt.title('Relationship between Year and GDP(billions)')\n",
    "plt.xlabel('Year')\n",
    "plt.ylabel('GDP(billions)')"
   ]
  },
  {
   "cell_type": "markdown",
   "metadata": {},
   "source": [
    "# Preparing/training the Model"
   ]
  },
  {
   "cell_type": "code",
   "execution_count": 11,
   "metadata": {},
   "outputs": [],
   "source": [
    "x= data[['Year']].values\n",
    "y=data[['GDP(billions)']].values"
   ]
  },
  {
   "cell_type": "code",
   "execution_count": 12,
   "metadata": {},
   "outputs": [],
   "source": [
    "from sklearn.model_selection import train_test_split\n",
    "xtrain,xtest,ytrain,ytest= train_test_split(x,y,test_size=0.2,random_state=42)"
   ]
  },
  {
   "cell_type": "code",
   "execution_count": 13,
   "metadata": {},
   "outputs": [],
   "source": [
    "from sklearn.linear_model import LinearRegression\n",
    "lm= LinearRegression()\n",
    "# importing regression algorithm "
   ]
  },
  {
   "cell_type": "code",
   "execution_count": 14,
   "metadata": {},
   "outputs": [
    {
     "data": {
      "text/plain": [
       "LinearRegression()"
      ]
     },
     "execution_count": 14,
     "metadata": {},
     "output_type": "execute_result"
    }
   ],
   "source": [
    "lm.fit(xtrain,ytrain)"
   ]
  },
  {
   "cell_type": "code",
   "execution_count": 15,
   "metadata": {},
   "outputs": [
    {
     "data": {
      "text/plain": [
       "Text(0, 0.5, 'GDP(billions)')"
      ]
     },
     "execution_count": 15,
     "metadata": {},
     "output_type": "execute_result"
    },
    {
     "data": {
      "image/png": "[encoded data removed]",
      "text/plain": [
       "<Figure size 432x288 with 1 Axes>"
      ]
     },
     "metadata": {
      "needs_background": "light"
     },
     "output_type": "display_data"
    }
   ],
   "source": [
    "# Plotting the regression line\n",
    "line = lm.coef_*x+lm.intercept_\n",
    "\n",
    "# Plotting for the test data\n",
    "plt.scatter(x, y)\n",
    "plt.plot(x, line);\n",
    "plt.title('Year vs GDP(billions)')\n",
    "plt.xlabel('Year')\n",
    "plt.ylabel('GDP(billions)')"
   ]
  },
  {
   "cell_type": "code",
   "execution_count": 16,
   "metadata": {},
   "outputs": [
    {
     "name": "stdout",
     "output_type": "stream",
     "text": [
      "Training score\n",
      "0.9688753051409749\n",
      "Test score\n",
      "0.9331129792992565\n",
      "here there is good accuracy, the maximum accuracy is \"1\" \n"
     ]
    }
   ],
   "source": [
    "print('Training score')\n",
    "print(lm.score(xtrain, ytrain))\n",
    "print('Test score')\n",
    "print(lm.score(xtest, ytest))\n",
    "print('here there is good accuracy, the maximum accuracy is \"1\" ')\n",
    "# the both values should similar or near, othervice there will be accuracy error"
   ]
  },
  {
   "cell_type": "markdown",
   "metadata": {},
   "source": [
    "## here we trained x label as time and y label as the GDP. "
   ]
  },
  {
   "cell_type": "code",
   "execution_count": 17,
   "metadata": {},
   "outputs": [],
   "source": [
    "ypred= lm.predict(xtest)"
   ]
  },
  {
   "cell_type": "code",
   "execution_count": 18,
   "metadata": {},
   "outputs": [
    {
     "data": {
      "text/plain": [
       "array([[1856.72],\n",
       "       [2651.46]])"
      ]
     },
     "execution_count": 18,
     "metadata": {},
     "output_type": "execute_result"
    }
   ],
   "source": [
    "ytest # these are test case values"
   ]
  },
  {
   "cell_type": "code",
   "execution_count": 19,
   "metadata": {},
   "outputs": [
    {
     "data": {
      "text/plain": [
       "array([[1895.3478],\n",
       "       [2511.3486]])"
      ]
     },
     "execution_count": 19,
     "metadata": {},
     "output_type": "execute_result"
    }
   ],
   "source": [
    "ypred # these are predicted values"
   ]
  },
  {
   "cell_type": "code",
   "execution_count": 20,
   "metadata": {},
   "outputs": [
    {
     "name": "stdout",
     "output_type": "stream",
     "text": [
      "Year  =  2020\n",
      "The GDP to be predicted =  2973.349200000055\n"
     ]
    }
   ],
   "source": [
    "print(\"Year  = \", 2020)\n",
    "print(\"The GDP to be predicted = \",lm.predict([[2020]])[0][0])"
   ]
  },
  {
   "cell_type": "markdown",
   "metadata": {},
   "source": [
    "# The predicted GDP of both 2020 and 2021 according to the variable Year as reference "
   ]
  },
  {
   "cell_type": "code",
   "execution_count": 21,
   "metadata": {},
   "outputs": [
    {
     "name": "stdout",
     "output_type": "stream",
     "text": [
      "Year  =  2021\n",
      "The GDP to be predicted =  [3127.3494]\n"
     ]
    }
   ],
   "source": [
    "print(\"Year  = \", 2021)\n",
    "print(\"The GDP to be predicted = \",lm.predict([[2021]])[0])"
   ]
  },
  {
   "cell_type": "code",
   "execution_count": 22,
   "metadata": {},
   "outputs": [
    {
     "name": "stdout",
     "output_type": "stream",
     "text": [
      "MAE:  89.36960000001011\n",
      "MSE:  10561.65567139808\n",
      "RMSE:  102.76991617880245\n"
     ]
    }
   ],
   "source": [
    "from sklearn import metrics  \n",
    "print('MAE: ',metrics.mean_absolute_error(ytest, ypred))\n",
    "print('MSE: ', metrics.mean_squared_error(ytest, ypred))\n",
    "print('RMSE: ', np.sqrt(metrics.mean_squared_error(ytest, ypred)))"
   ]
  },
  {
   "cell_type": "code",
   "execution_count": 23,
   "metadata": {},
   "outputs": [
    {
     "name": "stderr",
     "output_type": "stream",
     "text": [
      "C:\\Users\\yeshw\\anaconda3\\lib\\site-packages\\seaborn\\distributions.py:2619: FutureWarning: `distplot` is a deprecated function and will be removed in a future version. Please adapt your code to use either `displot` (a figure-level function with similar flexibility) or `histplot` (an axes-level function for histograms).\n",
      "  warnings.warn(msg, FutureWarning)\n",
      "C:\\Users\\yeshw\\anaconda3\\lib\\site-packages\\seaborn\\distributions.py:2619: FutureWarning: `distplot` is a deprecated function and will be removed in a future version. Please adapt your code to use either `displot` (a figure-level function with similar flexibility) or `histplot` (an axes-level function for histograms).\n",
      "  warnings.warn(msg, FutureWarning)\n"
     ]
    },
    {
     "data": {
      "text/plain": [
       "<AxesSubplot:ylabel='Density'>"
      ]
     },
     "execution_count": 23,
     "metadata": {},
     "output_type": "execute_result"
    },
    {
     "data": {
      "image/png": "[encoded data removed]",
      "text/plain": [
       "<Figure size 432x288 with 1 Axes>"
      ]
     },
     "metadata": {
      "needs_background": "light"
     },
     "output_type": "display_data"
    }
   ],
   "source": [
    "sns.distplot([ytest])\n",
    "sns.distplot([ypred])\n",
    "# we compare both the graphs"
   ]
  },
  {
   "cell_type": "code",
   "execution_count": 24,
   "metadata": {},
   "outputs": [
    {
     "data": {
      "image/png": "[encoded data removed]",
      "text/plain": [
       "<Figure size 648x576 with 2 Axes>"
      ]
     },
     "metadata": {
      "needs_background": "light"
     },
     "output_type": "display_data"
    }
   ],
   "source": [
    "plt.figure(figsize=(9, 8))\n",
    "relation = data.corr().iloc[1:9,1:9]\n",
    "sns.heatmap(relation, annot = True, cmap = \"coolwarm\")\n",
    "plt.show()"
   ]
  },
  {
   "cell_type": "markdown",
   "metadata": {},
   "source": [
    "# Re-training the model with digital payments data as x label and Y as GDP"
   ]
  },
  {
   "cell_type": "code",
   "execution_count": 25,
   "metadata": {},
   "outputs": [],
   "source": [
    "x= data[['Total digital-payments']].values\n",
    "y=data[['GDP(billions)']].values"
   ]
  },
  {
   "cell_type": "code",
   "execution_count": 26,
   "metadata": {},
   "outputs": [],
   "source": [
    "from sklearn.model_selection import train_test_split\n",
    "xtrain,xtest,ytrain,ytest= train_test_split(x,y,test_size=0.2,random_state=42)\n",
    "from sklearn.linear_model import LinearRegression\n",
    "lm= LinearRegression()\n",
    "# importing regression algorithm as ml"
   ]
  },
  {
   "cell_type": "code",
   "execution_count": 27,
   "metadata": {},
   "outputs": [
    {
     "data": {
      "text/plain": [
       "LinearRegression()"
      ]
     },
     "execution_count": 27,
     "metadata": {},
     "output_type": "execute_result"
    }
   ],
   "source": [
    "lm.fit(xtrain,ytrain)"
   ]
  },
  {
   "cell_type": "code",
   "execution_count": 28,
   "metadata": {},
   "outputs": [
    {
     "name": "stdout",
     "output_type": "stream",
     "text": [
      "Training score\n",
      "0.965574071830323\n",
      "Test score\n",
      "0.7060610011124271\n"
     ]
    }
   ],
   "source": [
    "print('Training score')\n",
    "print(lm.score(xtrain, ytrain))\n",
    "print('Test score')\n",
    "print(lm.score(xtest, ytest))\n",
    "# the both values should similar or near, othervice there will be accuracy error"
   ]
  },
  {
   "cell_type": "code",
   "execution_count": 29,
   "metadata": {},
   "outputs": [
    {
     "data": {
      "text/plain": [
       "Text(0, 0.5, 'GDP(billions)')"
      ]
     },
     "execution_count": 29,
     "metadata": {},
     "output_type": "execute_result"
    },
    {
     "data": {
      "image/png": "[encoded data removed]",
      "text/plain": [
       "<Figure size 432x288 with 1 Axes>"
      ]
     },
     "metadata": {
      "needs_background": "light"
     },
     "output_type": "display_data"
    }
   ],
   "source": [
    "# Plotting the regression line\n",
    "line = lm.coef_*x+lm.intercept_\n",
    "\n",
    "# Plotting for the test data\n",
    "plt.scatter(x, y)\n",
    "plt.plot(x, line);\n",
    "plt.title(' Total digital-payments vs GDP(billions)')\n",
    "plt.xlabel('Total digital-payments')\n",
    "plt.ylabel('GDP(billions)')"
   ]
  },
  {
   "cell_type": "code",
   "execution_count": 30,
   "metadata": {},
   "outputs": [
    {
     "data": {
      "text/plain": [
       "<AxesSubplot:xlabel='Total digital-payments', ylabel='GDP(billions)'>"
      ]
     },
     "execution_count": 30,
     "metadata": {},
     "output_type": "execute_result"
    },
    {
     "data": {
      "image/png": "[encoded data removed]",
      "text/plain": [
       "<Figure size 432x288 with 1 Axes>"
      ]
     },
     "metadata": {
      "needs_background": "light"
     },
     "output_type": "display_data"
    }
   ],
   "source": [
    "sns.boxplot(x=\"Total digital-payments\", y=\"GDP(billions)\", data=data) #boxplot"
   ]
  },
  {
   "cell_type": "code",
   "execution_count": 31,
   "metadata": {},
   "outputs": [
    {
     "data": {
      "text/plain": [
       "array([[1856.72],\n",
       "       [2651.46]])"
      ]
     },
     "execution_count": 31,
     "metadata": {},
     "output_type": "execute_result"
    }
   ],
   "source": [
    "ypred= lm.predict(xtest)\n",
    "ytest # these are test case values"
   ]
  },
  {
   "cell_type": "code",
   "execution_count": 32,
   "metadata": {},
   "outputs": [
    {
     "data": {
      "text/plain": [
       "array([[1971.16325319],\n",
       "       [2369.09429311]])"
      ]
     },
     "execution_count": 32,
     "metadata": {},
     "output_type": "execute_result"
    }
   ],
   "source": [
    "ypred # these are predicted values"
   ]
  },
  {
   "cell_type": "markdown",
   "metadata": {},
   "source": [
    "# prediction of GDP with the help of the Digital Payments"
   ]
  },
  {
   "cell_type": "code",
   "execution_count": 33,
   "metadata": {},
   "outputs": [
    {
     "name": "stdout",
     "output_type": "stream",
     "text": [
      "Total digital-payments in 2020 by RBI=  18639\n",
      "The GDP to be predicted in 2020=  2504.3626315989686 in Billions\n"
     ]
    }
   ],
   "source": [
    "print(\"Total digital-payments in 2020 by RBI= \",18639)\n",
    "print(\"The GDP to be predicted in 2020= \",lm.predict([[18639]])[0][0], \"in Billions\")"
   ]
  },
  {
   "cell_type": "code",
   "execution_count": 34,
   "metadata": {},
   "outputs": [
    {
     "name": "stdout",
     "output_type": "stream",
     "text": [
      "MSE 4.64e+04\n",
      "MAE 1.98e+02\n",
      "RMSE 2.15e+02\n",
      "R2: 0.71\n"
     ]
    }
   ],
   "source": [
    "import math\n",
    "model_mse = mean_squared_error(ytest, ypred)\n",
    "model_mae = mean_absolute_error(ytest, ypred)\n",
    "model_rmse =  math.sqrt(model_mse)\n",
    "model_r2 = r2_score(ytest, ypred)\n",
    "\n",
    "print(\"MSE {:.3}\".format(model_mse))\n",
    "print(\"MAE {:.3}\".format(model_mae))\n",
    "print(\"RMSE {:.3}\".format(model_rmse))\n",
    "print(\"R2: {:.2}\".format(model_r2))\n",
    "# calculation of error rate"
   ]
  },
  {
   "cell_type": "markdown",
   "metadata": {},
   "source": [
    "## visualizing all three economy indexes with reference to the Total Digital-payments."
   ]
  },
  {
   "cell_type": "code",
   "execution_count": 35,
   "metadata": {},
   "outputs": [
    {
     "data": {
      "text/plain": [
       "<seaborn.axisgrid.JointGrid at 0x1f6a76a2af0>"
      ]
     },
     "execution_count": 35,
     "metadata": {},
     "output_type": "execute_result"
    },
    {
     "data": {
      "image/png": "[encoded data removed]",
      "text/plain": [
       "<Figure size 432x432 with 3 Axes>"
      ]
     },
     "metadata": {
      "needs_background": "light"
     },
     "output_type": "display_data"
    },
    {
     "data": {
      "image/png": "[encoded data removed]",
      "text/plain": [
       "<Figure size 432x432 with 3 Axes>"
      ]
     },
     "metadata": {
      "needs_background": "light"
     },
     "output_type": "display_data"
    },
    {
     "data": {
      "image/png": "[encoded data removed]",
      "text/plain": [
       "<Figure size 432x432 with 3 Axes>"
      ]
     },
     "metadata": {
      "needs_background": "light"
     },
     "output_type": "display_data"
    }
   ],
   "source": [
    "sns.jointplot(data=data, x=\"Total digital-payments\", y=\"GDP(billions)\", color='orange')\n",
    "sns.jointplot(data=data, x=\"Total digital-payments\", y=\"Inflation Index\", color='grey')\n",
    "sns.jointplot(data=data, x=\"Total digital-payments\", y=\"Human Development Index\", color='green')"
   ]
  },
  {
   "cell_type": "markdown",
   "metadata": {},
   "source": [
    "## OLS regression for finding relationships between the variables."
   ]
  },
  {
   "cell_type": "code",
   "execution_count": 54,
   "metadata": {},
   "outputs": [],
   "source": [
    "x= data[['Total digital-payments']].values\n",
    "y=data[['GDP(billions)']].values\n",
    "model = sm.OLS(y,x)"
   ]
  },
  {
   "cell_type": "code",
   "execution_count": 55,
   "metadata": {},
   "outputs": [],
   "source": [
    "fit = model.fit()"
   ]
  },
  {
   "cell_type": "code",
   "execution_count": 56,
   "metadata": {},
   "outputs": [
    {
     "data": {
      "text/html": [
       "<table class=\"simpletable\">\n",
       "<caption>OLS Regression Results</caption>\n",
       "<tr>\n",
       "  <th>Dep. Variable:</th>            <td>y</td>        <th>  R-squared (uncentered):</th>      <td>   0.709</td>\n",
       "</tr>\n",
       "<tr>\n",
       "  <th>Model:</th>                   <td>OLS</td>       <th>  Adj. R-squared (uncentered):</th> <td>   0.667</td>\n",
       "</tr>\n",
       "<tr>\n",
       "  <th>Method:</th>             <td>Least Squares</td>  <th>  F-statistic:       </th>          <td>   17.03</td>\n",
       "</tr>\n",
       "<tr>\n",
       "  <th>Date:</th>             <td>Sun, 03 Jul 2022</td> <th>  Prob (F-statistic):</th>           <td>0.00442</td>\n",
       "</tr>\n",
       "<tr>\n",
       "  <th>Time:</th>                 <td>11:56:59</td>     <th>  Log-Likelihood:    </th>          <td> -68.426</td>\n",
       "</tr>\n",
       "<tr>\n",
       "  <th>No. Observations:</th>      <td>     8</td>      <th>  AIC:               </th>          <td>   138.9</td>\n",
       "</tr>\n",
       "<tr>\n",
       "  <th>Df Residuals:</th>          <td>     7</td>      <th>  BIC:               </th>          <td>   138.9</td>\n",
       "</tr>\n",
       "<tr>\n",
       "  <th>Df Model:</th>              <td>     1</td>      <th>                     </th>              <td> </td>   \n",
       "</tr>\n",
       "<tr>\n",
       "  <th>Covariance Type:</th>      <td>nonrobust</td>    <th>                     </th>              <td> </td>   \n",
       "</tr>\n",
       "</table>\n",
       "<table class=\"simpletable\">\n",
       "<tr>\n",
       "   <td></td>     <th>coef</th>     <th>std err</th>      <th>t</th>      <th>P>|t|</th>  <th>[0.025</th>    <th>0.975]</th>  \n",
       "</tr>\n",
       "<tr>\n",
       "  <th>x1</th> <td>    0.1269</td> <td>    0.031</td> <td>    4.127</td> <td> 0.004</td> <td>    0.054</td> <td>    0.200</td>\n",
       "</tr>\n",
       "</table>\n",
       "<table class=\"simpletable\">\n",
       "<tr>\n",
       "  <th>Omnibus:</th>       <td> 3.836</td> <th>  Durbin-Watson:     </th> <td>   0.170</td>\n",
       "</tr>\n",
       "<tr>\n",
       "  <th>Prob(Omnibus):</th> <td> 0.147</td> <th>  Jarque-Bera (JB):  </th> <td>   1.619</td>\n",
       "</tr>\n",
       "<tr>\n",
       "  <th>Skew:</th>          <td>-1.095</td> <th>  Prob(JB):          </th> <td>   0.445</td>\n",
       "</tr>\n",
       "<tr>\n",
       "  <th>Kurtosis:</th>      <td> 2.756</td> <th>  Cond. No.          </th> <td>    1.00</td>\n",
       "</tr>\n",
       "</table><br/><br/>Notes:<br/>[1] R² is computed without centering (uncentered) since the model does not contain a constant.<br/>[2] Standard Errors assume that the covariance matrix of the errors is correctly specified."
      ],
      "text/plain": [
       "<class 'statsmodels.iolib.summary.Summary'>\n",
       "\"\"\"\n",
       "                                 OLS Regression Results                                \n",
       "=======================================================================================\n",
       "Dep. Variable:                      y   R-squared (uncentered):                   0.709\n",
       "Model:                            OLS   Adj. R-squared (uncentered):              0.667\n",
       "Method:                 Least Squares   F-statistic:                              17.03\n",
       "Date:                Sun, 03 Jul 2022   Prob (F-statistic):                     0.00442\n",
       "Time:                        11:56:59   Log-Likelihood:                         -68.426\n",
       "No. Observations:                   8   AIC:                                      138.9\n",
       "Df Residuals:                       7   BIC:                                      138.9\n",
       "Df Model:                           1                                                  \n",
       "Covariance Type:            nonrobust                                                  \n",
       "==============================================================================\n",
       "                 coef    std err          t      P>|t|      [0.025      0.975]\n",
       "------------------------------------------------------------------------------\n",
       "x1             0.1269      0.031      4.127      0.004       0.054       0.200\n",
       "==============================================================================\n",
       "Omnibus:                        3.836   Durbin-Watson:                   0.170\n",
       "Prob(Omnibus):                  0.147   Jarque-Bera (JB):                1.619\n",
       "Skew:                          -1.095   Prob(JB):                        0.445\n",
       "Kurtosis:                       2.756   Cond. No.                         1.00\n",
       "==============================================================================\n",
       "\n",
       "Notes:\n",
       "[1] R² is computed without centering (uncentered) since the model does not contain a constant.\n",
       "[2] Standard Errors assume that the covariance matrix of the errors is correctly specified.\n",
       "\"\"\""
      ]
     },
     "execution_count": 56,
     "metadata": {},
     "output_type": "execute_result"
    }
   ],
   "source": [
    "warnings.filterwarnings(\"ignore\")\n",
    "fit.summary()\n",
    "# results of our model; used for model evaluation."
   ]
  },
  {
   "cell_type": "markdown",
   "metadata": {},
   "source": [
    " ## Element Description \n",
    "## R-squared   =   The coefficient of determination. A statistical measure of how well the regression line approximates the real data points. If our linear regression model is good then, we have R*2 value closer to '1'. If it is '-ve' then that model is a bad model\n",
    "\n",
    "### Adj. R-squared   =   The above value adjusted based on the number of observations and the degrees-of-freedom of the residuals(says how the variables are related to the model and Both R*2 and ADJ,R*2 should be similar )\n",
    "#### F-statistic  = A measure how significant the fit is. The mean squared error of the model divided by the mean squared error of the residuals     \n",
    "#### Prob (F-statistic) =  The probability that you would get the above statistic, given the null hypothesis that they are unrelated\n",
    "#### Log-likelihood\tThe log of the likelihood function.\n",
    "#### AIC    =  The Akaike Information Criterion. Adjusts the log-likelihood based on the number of observations and the complexity of the model.\n",
    "#### BIC    =  The Bayesian Information Criterion. Similar to the AIC, but has a higher penalty for models with more parameters.\n",
    "#### The second table reports for each of the coefficients\n",
    "\n",
    "# Description\n",
    "\n",
    "#### Model  = The name of the term in the model. \n",
    "#### coef  = The estimated value of the coefficient \n",
    "#### std err  = The basic standard error of the estimate of the coefficient. More sophisticated errors are also available.\n",
    "\n",
    "### t   =  The t-statistic value. This is a measure of how statistically significant the coefficient is. t test looks the relationship between the target variable and predicted values.\n",
    "\n",
    "#### P > |t|   =  P-value that the null-hypothesis that the coefficient = 0 is true. If it is less than the confidence level, often 0.05, it indicates that there is a statistically significant relationship between the term and the response.\n",
    "#### [95.0% Conf. Interval]\tThe lower and upper values of the 95% confidence interval "
   ]
  },
  {
   "cell_type": "markdown",
   "metadata": {},
   "source": [
    "fit.params"
   ]
  },
  {
   "cell_type": "markdown",
   "metadata": {},
   "source": [
    "## Element Description\n",
    "### Dep. Variable  = Which variable is the response in the model\n",
    "### Model  = What model you are using in the fit\n",
    "### Method  = How the parameters of the model were calculated\n",
    "### No. Observations  = The number of observations (examples)\n",
    "### DF Residuals  = Degrees of freedom of the residuals. Number of observations – number of parameters\n",
    "### DF Model  = Number of parameters in the model (not including the constant term if present)"
   ]
  },
  {
   "cell_type": "markdown",
   "metadata": {},
   "source": [
    "##     ----------------------------------------------------------------------------------------------------\n",
    "##     ----------------------------------------------------------------------------------------------------\n",
    "##     ----------------------------------------------------------------------------------------------------"
   ]
  },
  {
   "cell_type": "markdown",
   "metadata": {},
   "source": [
    "# Random Forest algorithm "
   ]
  },
  {
   "cell_type": "code",
   "execution_count": 39,
   "metadata": {},
   "outputs": [],
   "source": [
    "X= data[['Total digital-payments']].values\n",
    "y=data[['GDP(billions)']].values"
   ]
  },
  {
   "cell_type": "code",
   "execution_count": 40,
   "metadata": {},
   "outputs": [],
   "source": [
    "#Split the Dataset into Training and Test Dataset\n",
    "from sklearn.model_selection import train_test_split\n",
    "X_train, X_test, y_train, y_test = train_test_split(X, y, test_size=0.3, random_state=0)"
   ]
  },
  {
   "cell_type": "markdown",
   "metadata": {},
   "source": [
    "### estimator will tells us how many trees we should include in the model, the default value is 10"
   ]
  },
  {
   "cell_type": "code",
   "execution_count": 41,
   "metadata": {},
   "outputs": [
    {
     "data": {
      "text/plain": [
       "RandomForestRegressor(n_estimators=10, random_state=0)"
      ]
     },
     "execution_count": 41,
     "metadata": {},
     "output_type": "execute_result"
    }
   ],
   "source": [
    "#Import the Random Forest Regressor \n",
    "from sklearn.ensemble import RandomForestRegressor   \n",
    "  \n",
    "#Create a Random Forest regressor object from Random Forest Regressor class\n",
    "RFReg = RandomForestRegressor(n_estimators = 10, random_state = 0)\n",
    "  \n",
    "#Fit the random forest regressor with training data represented by X_train and y_train\n",
    "RFReg.fit(X_train, y_train)"
   ]
  },
  {
   "cell_type": "markdown",
   "metadata": {},
   "source": [
    "### R*2 method is used to evaluate the model"
   ]
  },
  {
   "cell_type": "code",
   "execution_count": 42,
   "metadata": {},
   "outputs": [
    {
     "name": "stdout",
     "output_type": "stream",
     "text": [
      "R-Square Error associated with Random Forest Regression is: 0.9524929894978058\n"
     ]
    }
   ],
   "source": [
    "#Predicted Height from test dataset w.r.t Random Forest Regression\n",
    "y_predict_rfr = RFReg.predict((X_test))\n",
    "\n",
    "#Model Evaluation using R-Square for Random Forest Regression\n",
    "from sklearn import metrics\n",
    "r_square = metrics.r2_score(y_test, y_predict_rfr)\n",
    "print('R-Square Error associated with Random Forest Regression is:', r_square)"
   ]
  },
  {
   "cell_type": "markdown",
   "metadata": {},
   "source": [
    "## The number of steps in the below graph is n_estimator value, here it is 20, so we will have 20 steps in graph"
   ]
  },
  {
   "cell_type": "code",
   "execution_count": 43,
   "metadata": {},
   "outputs": [
    {
     "data": {
      "image/png": "[encoded data removed]",
      "text/plain": [
       "<Figure size 432x288 with 1 Axes>"
      ]
     },
     "metadata": {
      "needs_background": "light"
     },
     "output_type": "display_data"
    },
    {
     "data": {
      "text/plain": [
       "<Figure size 72x72 with 0 Axes>"
      ]
     },
     "metadata": {},
     "output_type": "display_data"
    }
   ],
   "source": [
    "''' Visualise the Random Forest Regression by creating range of values from min value of X_train to max value of X_train  \n",
    "having a difference of 0.01 between two consecutive values'''\n",
    "X_val = np.arange(min(X_train), max(X_train), 0.01) \n",
    "  \n",
    "#Reshape the data into a len(X_val)*1 array in order to make a column out of the X_val values \n",
    "X_val = X_val.reshape((len(X_val), 1))  \n",
    "  \n",
    "#Define a scatter plot for training data \n",
    "plt.scatter(X_train, y_train, color = 'blue') \n",
    "  \n",
    "#Plot the predicted data \n",
    "plt.plot(X_val, RFReg.predict(X_val), color = 'red')  \n",
    "  \n",
    "#Define the title \n",
    "plt.title('GDP(billions)  prediction using Random Forest Regression')  \n",
    "  \n",
    "#Define X axis label \n",
    "plt.xlabel('Total digital-payments') \n",
    "  \n",
    "#Define Y axis label \n",
    "plt.ylabel('GDP(billions)') \n",
    "\n",
    "#Set the size of the plot for better clarity\n",
    "plt.figure(figsize=(1,1))\n",
    "  \n",
    "#Draw the plot \n",
    "plt.show()"
   ]
  },
  {
   "cell_type": "code",
   "execution_count": 44,
   "metadata": {},
   "outputs": [
    {
     "name": "stdout",
     "output_type": "stream",
     "text": [
      "The GDP to be predicted in 2020:  2525 in Billions\n"
     ]
    }
   ],
   "source": [
    "# Predicting GDP based on Totaldigital payments using Random Forest Regression \n",
    "GDP = RFReg.predict([[18639]])\n",
    "print(\"The GDP to be predicted in 2020: % d\"% GDP, \"in Billions\")"
   ]
  },
  {
   "cell_type": "code",
   "execution_count": null,
   "metadata": {},
   "outputs": [],
   "source": []
  }
 ],
 "metadata": {
  "kernelspec": {
   "display_name": "Python 3 (ipykernel)",
   "language": "python",
   "name": "python3"
  },
  "language_info": {
   "codemirror_mode": {
    "name": "ipython",
    "version": 3
   },
   "file_extension": ".py",
   "mimetype": "text/x-python",
   "name": "python",
   "nbconvert_exporter": "python",
   "pygments_lexer": "ipython3",
   "version": "3.9.12"
  }
 },
 "nbformat": 4,
 "nbformat_minor": 4
}
