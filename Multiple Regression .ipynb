{
 "cells": [
  {
   "cell_type": "code",
   "execution_count": 1,
   "metadata": {},
   "outputs": [],
   "source": [
    "import numpy as np\n",
    "import pandas as pd\n",
    "import matplotlib.pyplot as plt\n",
    "import seaborn as sns\n",
    "from sklearn.model_selection import train_test_split\n",
    "from sklearn import linear_model\n",
    "from sklearn.metrics import mean_squared_error, r2_score, mean_absolute_error\n",
    "from scipy import stats\n",
    "import statsmodels.api as sm\n",
    "from statsmodels.stats import diagnostic as diag\n",
    "from statsmodels.stats.outliers_influence import variance_inflation_factor\n",
    "from sklearn.preprocessing import PolynomialFeatures\n",
    "from sklearn.preprocessing import StandardScaler\n",
    "from sklearn.pipeline import Pipeline\n",
    "import warnings"
   ]
  },
  {
   "cell_type": "code",
   "execution_count": 2,
   "metadata": {},
   "outputs": [
    {
     "data": {
      "text/html": [
       "<div>\n",
       "<style scoped>\n",
       "    .dataframe tbody tr th:only-of-type {\n",
       "        vertical-align: middle;\n",
       "    }\n",
       "\n",
       "    .dataframe tbody tr th {\n",
       "        vertical-align: top;\n",
       "    }\n",
       "\n",
       "    .dataframe thead th {\n",
       "        text-align: right;\n",
       "    }\n",
       "</style>\n",
       "<table border=\"1\" class=\"dataframe\">\n",
       "  <thead>\n",
       "    <tr style=\"text-align: right;\">\n",
       "      <th></th>\n",
       "      <th>Year</th>\n",
       "      <th>GDP(billions)</th>\n",
       "      <th>Human Development Index</th>\n",
       "      <th>Inflation Index</th>\n",
       "      <th>Credit Transfers (in million)</th>\n",
       "      <th>Direct Debits (in million)</th>\n",
       "      <th>Cheques (in million)</th>\n",
       "      <th>Card &amp; e-money (in million)</th>\n",
       "      <th>Total digital-payments</th>\n",
       "    </tr>\n",
       "  </thead>\n",
       "  <tbody>\n",
       "    <tr>\n",
       "      <th>0</th>\n",
       "      <td>2012</td>\n",
       "      <td>1827.64</td>\n",
       "      <td>0.600</td>\n",
       "      <td>108.983</td>\n",
       "      <td>518</td>\n",
       "      <td>177</td>\n",
       "      <td>1313</td>\n",
       "      <td>947</td>\n",
       "      <td>1642</td>\n",
       "    </tr>\n",
       "    <tr>\n",
       "      <th>1</th>\n",
       "      <td>2013</td>\n",
       "      <td>1856.72</td>\n",
       "      <td>0.607</td>\n",
       "      <td>119.227</td>\n",
       "      <td>915</td>\n",
       "      <td>193</td>\n",
       "      <td>1257</td>\n",
       "      <td>1279</td>\n",
       "      <td>2387</td>\n",
       "    </tr>\n",
       "    <tr>\n",
       "      <th>2</th>\n",
       "      <td>2014</td>\n",
       "      <td>2039.13</td>\n",
       "      <td>0.616</td>\n",
       "      <td>126.142</td>\n",
       "      <td>1457</td>\n",
       "      <td>230</td>\n",
       "      <td>1197</td>\n",
       "      <td>1760</td>\n",
       "      <td>3447</td>\n",
       "    </tr>\n",
       "    <tr>\n",
       "      <th>3</th>\n",
       "      <td>2015</td>\n",
       "      <td>2103.59</td>\n",
       "      <td>0.624</td>\n",
       "      <td>132.323</td>\n",
       "      <td>2874</td>\n",
       "      <td>289</td>\n",
       "      <td>1096</td>\n",
       "      <td>2736</td>\n",
       "      <td>5899</td>\n",
       "    </tr>\n",
       "    <tr>\n",
       "      <th>4</th>\n",
       "      <td>2016</td>\n",
       "      <td>2294.12</td>\n",
       "      <td>0.636</td>\n",
       "      <td>138.278</td>\n",
       "      <td>3858</td>\n",
       "      <td>365</td>\n",
       "      <td>1207</td>\n",
       "      <td>5497</td>\n",
       "      <td>9720</td>\n",
       "    </tr>\n",
       "    <tr>\n",
       "      <th>5</th>\n",
       "      <td>2017</td>\n",
       "      <td>2651.46</td>\n",
       "      <td>0.640</td>\n",
       "      <td>143.259</td>\n",
       "      <td>5879</td>\n",
       "      <td>379</td>\n",
       "      <td>1171</td>\n",
       "      <td>8258</td>\n",
       "      <td>14516</td>\n",
       "    </tr>\n",
       "    <tr>\n",
       "      <th>6</th>\n",
       "      <td>2018</td>\n",
       "      <td>2701.11</td>\n",
       "      <td>0.642</td>\n",
       "      <td>148.171</td>\n",
       "      <td>11854</td>\n",
       "      <td>534</td>\n",
       "      <td>1124</td>\n",
       "      <td>10839</td>\n",
       "      <td>23227</td>\n",
       "    </tr>\n",
       "    <tr>\n",
       "      <th>7</th>\n",
       "      <td>2019</td>\n",
       "      <td>2870.50</td>\n",
       "      <td>0.645</td>\n",
       "      <td>155.227</td>\n",
       "      <td>18486</td>\n",
       "      <td>826</td>\n",
       "      <td>1070</td>\n",
       "      <td>12313</td>\n",
       "      <td>31625</td>\n",
       "    </tr>\n",
       "  </tbody>\n",
       "</table>\n",
       "</div>"
      ],
      "text/plain": [
       "   Year  GDP(billions)  Human Development Index  Inflation Index  \\\n",
       "0  2012        1827.64                    0.600          108.983   \n",
       "1  2013        1856.72                    0.607          119.227   \n",
       "2  2014        2039.13                    0.616          126.142   \n",
       "3  2015        2103.59                    0.624          132.323   \n",
       "4  2016        2294.12                    0.636          138.278   \n",
       "5  2017        2651.46                    0.640          143.259   \n",
       "6  2018        2701.11                    0.642          148.171   \n",
       "7  2019        2870.50                    0.645          155.227   \n",
       "\n",
       "   Credit Transfers (in million)  Direct Debits (in million)  \\\n",
       "0                            518                         177   \n",
       "1                            915                         193   \n",
       "2                           1457                         230   \n",
       "3                           2874                         289   \n",
       "4                           3858                         365   \n",
       "5                           5879                         379   \n",
       "6                          11854                         534   \n",
       "7                          18486                         826   \n",
       "\n",
       "   Cheques (in million)  Card & e-money (in million)  Total digital-payments  \n",
       "0                  1313                          947                    1642  \n",
       "1                  1257                         1279                    2387  \n",
       "2                  1197                         1760                    3447  \n",
       "3                  1096                         2736                    5899  \n",
       "4                  1207                         5497                    9720  \n",
       "5                  1171                         8258                   14516  \n",
       "6                  1124                        10839                   23227  \n",
       "7                  1070                        12313                   31625  "
      ]
     },
     "execution_count": 2,
     "metadata": {},
     "output_type": "execute_result"
    }
   ],
   "source": [
    "#The below code is used to load the dataset.\n",
    "df = pd.read_excel('IND.xlsx')\n",
    "df"
   ]
  },
  {
   "cell_type": "code",
   "execution_count": 3,
   "metadata": {},
   "outputs": [],
   "source": [
    "%matplotlib inline"
   ]
  },
  {
   "cell_type": "code",
   "execution_count": 4,
   "metadata": {},
   "outputs": [
    {
     "data": {
      "text/plain": [
       "Year                               int64\n",
       "GDP(billions)                    float64\n",
       "Human Development Index          float64\n",
       "Inflation Index                  float64\n",
       "Credit Transfers (in million)      int64\n",
       "Direct Debits (in million)         int64\n",
       "Cheques (in million)               int64\n",
       "Card & e-money (in million)        int64\n",
       "Total digital-payments             int64\n",
       "dtype: object"
      ]
     },
     "execution_count": 4,
     "metadata": {},
     "output_type": "execute_result"
    }
   ],
   "source": [
    "# Data Types\n",
    "df.dtypes"
   ]
  },
  {
   "cell_type": "code",
   "execution_count": 5,
   "metadata": {},
   "outputs": [
    {
     "name": "stdout",
     "output_type": "stream",
     "text": [
      "<class 'pandas.core.frame.DataFrame'>\n",
      "RangeIndex: 8 entries, 0 to 7\n",
      "Data columns (total 9 columns):\n",
      " #   Column                         Non-Null Count  Dtype  \n",
      "---  ------                         --------------  -----  \n",
      " 0   Year                           8 non-null      int64  \n",
      " 1   GDP(billions)                  8 non-null      float64\n",
      " 2   Human Development Index        8 non-null      float64\n",
      " 3   Inflation Index                8 non-null      float64\n",
      " 4   Credit Transfers (in million)  8 non-null      int64  \n",
      " 5   Direct Debits (in million)     8 non-null      int64  \n",
      " 6   Cheques (in million)           8 non-null      int64  \n",
      " 7   Card & e-money (in million)    8 non-null      int64  \n",
      " 8   Total digital-payments         8 non-null      int64  \n",
      "dtypes: float64(3), int64(6)\n",
      "memory usage: 704.0 bytes\n"
     ]
    },
    {
     "data": {
      "text/html": [
       "<div>\n",
       "<style scoped>\n",
       "    .dataframe tbody tr th:only-of-type {\n",
       "        vertical-align: middle;\n",
       "    }\n",
       "\n",
       "    .dataframe tbody tr th {\n",
       "        vertical-align: top;\n",
       "    }\n",
       "\n",
       "    .dataframe thead th {\n",
       "        text-align: right;\n",
       "    }\n",
       "</style>\n",
       "<table border=\"1\" class=\"dataframe\">\n",
       "  <thead>\n",
       "    <tr style=\"text-align: right;\">\n",
       "      <th></th>\n",
       "      <th>Year</th>\n",
       "      <th>GDP(billions)</th>\n",
       "      <th>Human Development Index</th>\n",
       "      <th>Inflation Index</th>\n",
       "      <th>Credit Transfers (in million)</th>\n",
       "      <th>Direct Debits (in million)</th>\n",
       "      <th>Cheques (in million)</th>\n",
       "      <th>Card &amp; e-money (in million)</th>\n",
       "      <th>Total digital-payments</th>\n",
       "    </tr>\n",
       "  </thead>\n",
       "  <tbody>\n",
       "    <tr>\n",
       "      <th>count</th>\n",
       "      <td>8.00000</td>\n",
       "      <td>8.000000</td>\n",
       "      <td>8.000000</td>\n",
       "      <td>8.000000</td>\n",
       "      <td>8.000000</td>\n",
       "      <td>8.000000</td>\n",
       "      <td>8.000000</td>\n",
       "      <td>8.000000</td>\n",
       "      <td>8.000000</td>\n",
       "    </tr>\n",
       "    <tr>\n",
       "      <th>mean</th>\n",
       "      <td>2015.50000</td>\n",
       "      <td>2293.033750</td>\n",
       "      <td>0.626250</td>\n",
       "      <td>133.951250</td>\n",
       "      <td>5730.125000</td>\n",
       "      <td>374.125000</td>\n",
       "      <td>1179.375000</td>\n",
       "      <td>5453.625000</td>\n",
       "      <td>11557.875000</td>\n",
       "    </tr>\n",
       "    <tr>\n",
       "      <th>std</th>\n",
       "      <td>2.44949</td>\n",
       "      <td>402.808202</td>\n",
       "      <td>0.017128</td>\n",
       "      <td>15.418294</td>\n",
       "      <td>6330.311783</td>\n",
       "      <td>216.972966</td>\n",
       "      <td>81.945866</td>\n",
       "      <td>4514.820102</td>\n",
       "      <td>10897.083207</td>\n",
       "    </tr>\n",
       "    <tr>\n",
       "      <th>min</th>\n",
       "      <td>2012.00000</td>\n",
       "      <td>1827.640000</td>\n",
       "      <td>0.600000</td>\n",
       "      <td>108.983000</td>\n",
       "      <td>518.000000</td>\n",
       "      <td>177.000000</td>\n",
       "      <td>1070.000000</td>\n",
       "      <td>947.000000</td>\n",
       "      <td>1642.000000</td>\n",
       "    </tr>\n",
       "    <tr>\n",
       "      <th>25%</th>\n",
       "      <td>2013.75000</td>\n",
       "      <td>1993.527500</td>\n",
       "      <td>0.613750</td>\n",
       "      <td>124.413250</td>\n",
       "      <td>1321.500000</td>\n",
       "      <td>220.750000</td>\n",
       "      <td>1117.000000</td>\n",
       "      <td>1639.750000</td>\n",
       "      <td>3182.000000</td>\n",
       "    </tr>\n",
       "    <tr>\n",
       "      <th>50%</th>\n",
       "      <td>2015.50000</td>\n",
       "      <td>2198.855000</td>\n",
       "      <td>0.630000</td>\n",
       "      <td>135.300500</td>\n",
       "      <td>3366.000000</td>\n",
       "      <td>327.000000</td>\n",
       "      <td>1184.000000</td>\n",
       "      <td>4116.500000</td>\n",
       "      <td>7809.500000</td>\n",
       "    </tr>\n",
       "    <tr>\n",
       "      <th>75%</th>\n",
       "      <td>2017.25000</td>\n",
       "      <td>2663.872500</td>\n",
       "      <td>0.640500</td>\n",
       "      <td>144.487000</td>\n",
       "      <td>7372.750000</td>\n",
       "      <td>417.750000</td>\n",
       "      <td>1219.500000</td>\n",
       "      <td>8903.250000</td>\n",
       "      <td>16693.750000</td>\n",
       "    </tr>\n",
       "    <tr>\n",
       "      <th>max</th>\n",
       "      <td>2019.00000</td>\n",
       "      <td>2870.500000</td>\n",
       "      <td>0.645000</td>\n",
       "      <td>155.227000</td>\n",
       "      <td>18486.000000</td>\n",
       "      <td>826.000000</td>\n",
       "      <td>1313.000000</td>\n",
       "      <td>12313.000000</td>\n",
       "      <td>31625.000000</td>\n",
       "    </tr>\n",
       "  </tbody>\n",
       "</table>\n",
       "</div>"
      ],
      "text/plain": [
       "             Year  GDP(billions)  Human Development Index  Inflation Index  \\\n",
       "count     8.00000       8.000000                 8.000000         8.000000   \n",
       "mean   2015.50000    2293.033750                 0.626250       133.951250   \n",
       "std       2.44949     402.808202                 0.017128        15.418294   \n",
       "min    2012.00000    1827.640000                 0.600000       108.983000   \n",
       "25%    2013.75000    1993.527500                 0.613750       124.413250   \n",
       "50%    2015.50000    2198.855000                 0.630000       135.300500   \n",
       "75%    2017.25000    2663.872500                 0.640500       144.487000   \n",
       "max    2019.00000    2870.500000                 0.645000       155.227000   \n",
       "\n",
       "       Credit Transfers (in million)  Direct Debits (in million)  \\\n",
       "count                       8.000000                    8.000000   \n",
       "mean                     5730.125000                  374.125000   \n",
       "std                      6330.311783                  216.972966   \n",
       "min                       518.000000                  177.000000   \n",
       "25%                      1321.500000                  220.750000   \n",
       "50%                      3366.000000                  327.000000   \n",
       "75%                      7372.750000                  417.750000   \n",
       "max                     18486.000000                  826.000000   \n",
       "\n",
       "       Cheques (in million)  Card & e-money (in million)  \\\n",
       "count              8.000000                     8.000000   \n",
       "mean            1179.375000                  5453.625000   \n",
       "std               81.945866                  4514.820102   \n",
       "min             1070.000000                   947.000000   \n",
       "25%             1117.000000                  1639.750000   \n",
       "50%             1184.000000                  4116.500000   \n",
       "75%             1219.500000                  8903.250000   \n",
       "max             1313.000000                 12313.000000   \n",
       "\n",
       "       Total digital-payments  \n",
       "count                8.000000  \n",
       "mean             11557.875000  \n",
       "std              10897.083207  \n",
       "min               1642.000000  \n",
       "25%               3182.000000  \n",
       "50%               7809.500000  \n",
       "75%              16693.750000  \n",
       "max              31625.000000  "
      ]
     },
     "execution_count": 5,
     "metadata": {},
     "output_type": "execute_result"
    }
   ],
   "source": [
    "# Complete information about data\n",
    "df.info()\n",
    "\n",
    "# Data Exploration: Summarize Data\n",
    "df.describe()"
   ]
  },
  {
   "cell_type": "code",
   "execution_count": 6,
   "metadata": {},
   "outputs": [
    {
     "data": {
      "text/plain": [
       "(8, 9)"
      ]
     },
     "execution_count": 6,
     "metadata": {},
     "output_type": "execute_result"
    }
   ],
   "source": [
    "# Shape\n",
    "df.shape"
   ]
  },
  {
   "cell_type": "code",
   "execution_count": 7,
   "metadata": {},
   "outputs": [
    {
     "data": {
      "text/plain": [
       "Year                             8\n",
       "GDP(billions)                    8\n",
       "Human Development Index          8\n",
       "Inflation Index                  8\n",
       "Credit Transfers (in million)    8\n",
       "Direct Debits (in million)       8\n",
       "Cheques (in million)             8\n",
       "Card & e-money (in million)      8\n",
       "Total digital-payments           8\n",
       "dtype: int64"
      ]
     },
     "execution_count": 7,
     "metadata": {},
     "output_type": "execute_result"
    }
   ],
   "source": [
    "# Count Rows\n",
    "df.count()"
   ]
  },
  {
   "cell_type": "code",
   "execution_count": 8,
   "metadata": {},
   "outputs": [
    {
     "data": {
      "text/html": [
       "<div>\n",
       "<style scoped>\n",
       "    .dataframe tbody tr th:only-of-type {\n",
       "        vertical-align: middle;\n",
       "    }\n",
       "\n",
       "    .dataframe tbody tr th {\n",
       "        vertical-align: top;\n",
       "    }\n",
       "\n",
       "    .dataframe thead th {\n",
       "        text-align: right;\n",
       "    }\n",
       "</style>\n",
       "<table border=\"1\" class=\"dataframe\">\n",
       "  <thead>\n",
       "    <tr style=\"text-align: right;\">\n",
       "      <th></th>\n",
       "      <th>Year</th>\n",
       "      <th>GDP(billions)</th>\n",
       "      <th>Human Development Index</th>\n",
       "      <th>Inflation Index</th>\n",
       "      <th>Credit Transfers (in million)</th>\n",
       "      <th>Direct Debits (in million)</th>\n",
       "      <th>Cheques (in million)</th>\n",
       "      <th>Card &amp; e-money (in million)</th>\n",
       "      <th>Total digital-payments</th>\n",
       "    </tr>\n",
       "  </thead>\n",
       "  <tbody>\n",
       "    <tr>\n",
       "      <th>0</th>\n",
       "      <td>False</td>\n",
       "      <td>False</td>\n",
       "      <td>False</td>\n",
       "      <td>False</td>\n",
       "      <td>False</td>\n",
       "      <td>False</td>\n",
       "      <td>False</td>\n",
       "      <td>False</td>\n",
       "      <td>False</td>\n",
       "    </tr>\n",
       "    <tr>\n",
       "      <th>1</th>\n",
       "      <td>False</td>\n",
       "      <td>False</td>\n",
       "      <td>False</td>\n",
       "      <td>False</td>\n",
       "      <td>False</td>\n",
       "      <td>False</td>\n",
       "      <td>False</td>\n",
       "      <td>False</td>\n",
       "      <td>False</td>\n",
       "    </tr>\n",
       "    <tr>\n",
       "      <th>2</th>\n",
       "      <td>False</td>\n",
       "      <td>False</td>\n",
       "      <td>False</td>\n",
       "      <td>False</td>\n",
       "      <td>False</td>\n",
       "      <td>False</td>\n",
       "      <td>False</td>\n",
       "      <td>False</td>\n",
       "      <td>False</td>\n",
       "    </tr>\n",
       "    <tr>\n",
       "      <th>3</th>\n",
       "      <td>False</td>\n",
       "      <td>False</td>\n",
       "      <td>False</td>\n",
       "      <td>False</td>\n",
       "      <td>False</td>\n",
       "      <td>False</td>\n",
       "      <td>False</td>\n",
       "      <td>False</td>\n",
       "      <td>False</td>\n",
       "    </tr>\n",
       "    <tr>\n",
       "      <th>4</th>\n",
       "      <td>False</td>\n",
       "      <td>False</td>\n",
       "      <td>False</td>\n",
       "      <td>False</td>\n",
       "      <td>False</td>\n",
       "      <td>False</td>\n",
       "      <td>False</td>\n",
       "      <td>False</td>\n",
       "      <td>False</td>\n",
       "    </tr>\n",
       "  </tbody>\n",
       "</table>\n",
       "</div>"
      ],
      "text/plain": [
       "    Year  GDP(billions)  Human Development Index  Inflation Index  \\\n",
       "0  False          False                    False            False   \n",
       "1  False          False                    False            False   \n",
       "2  False          False                    False            False   \n",
       "3  False          False                    False            False   \n",
       "4  False          False                    False            False   \n",
       "\n",
       "   Credit Transfers (in million)  Direct Debits (in million)  \\\n",
       "0                          False                       False   \n",
       "1                          False                       False   \n",
       "2                          False                       False   \n",
       "3                          False                       False   \n",
       "4                          False                       False   \n",
       "\n",
       "   Cheques (in million)  Card & e-money (in million)  Total digital-payments  \n",
       "0                 False                        False                   False  \n",
       "1                 False                        False                   False  \n",
       "2                 False                        False                   False  \n",
       "3                 False                        False                   False  \n",
       "4                 False                        False                   False  "
      ]
     },
     "execution_count": 8,
     "metadata": {},
     "output_type": "execute_result"
    }
   ],
   "source": [
    "# No Missing Values\n",
    "df.isnull().head()"
   ]
  },
  {
   "cell_type": "code",
   "execution_count": 9,
   "metadata": {},
   "outputs": [
    {
     "data": {
      "image/png": "[encoded data removed]",
      "text/plain": [
       "<Figure size 720x360 with 2 Axes>"
      ]
     },
     "metadata": {
      "needs_background": "light"
     },
     "output_type": "display_data"
    }
   ],
   "source": [
    "# Correlation Heatmap\n",
    "plt.figure(figsize = (10, 5))\n",
    "c = df.corr().iloc[1:9,1:9]\n",
    "sns.heatmap(c, cmap = \"BrBG\", annot = True)\n",
    "plt.title(\"Correlation Matrix\")\n",
    "plt.show()"
   ]
  },
  {
   "cell_type": "code",
   "execution_count": 10,
   "metadata": {},
   "outputs": [
    {
     "data": {
      "text/plain": [
       "<matplotlib.axes._subplots.AxesSubplot at 0x1e309e0cfd0>"
      ]
     },
     "execution_count": 10,
     "metadata": {},
     "output_type": "execute_result"
    },
    {
     "data": {
      "image/png": "[encoded data removed]",
      "text/plain": [
       "<Figure size 432x288 with 1 Axes>"
      ]
     },
     "metadata": {
      "needs_background": "light"
     },
     "output_type": "display_data"
    }
   ],
   "source": [
    "sns.violinplot(x = \"Total digital-payments\", y = \"GDP(billions)\", data = df)"
   ]
  },
  {
   "cell_type": "markdown",
   "metadata": {},
   "source": [
    "### Loading the data into x and y values"
   ]
  },
  {
   "cell_type": "code",
   "execution_count": 11,
   "metadata": {},
   "outputs": [
    {
     "data": {
      "text/html": [
       "<div>\n",
       "<style scoped>\n",
       "    .dataframe tbody tr th:only-of-type {\n",
       "        vertical-align: middle;\n",
       "    }\n",
       "\n",
       "    .dataframe tbody tr th {\n",
       "        vertical-align: top;\n",
       "    }\n",
       "\n",
       "    .dataframe thead th {\n",
       "        text-align: right;\n",
       "    }\n",
       "</style>\n",
       "<table border=\"1\" class=\"dataframe\">\n",
       "  <thead>\n",
       "    <tr style=\"text-align: right;\">\n",
       "      <th></th>\n",
       "      <th>Direct Debits (in million)</th>\n",
       "      <th>Credit Transfers (in million)</th>\n",
       "      <th>Card &amp; e-money (in million)</th>\n",
       "    </tr>\n",
       "  </thead>\n",
       "  <tbody>\n",
       "    <tr>\n",
       "      <th>0</th>\n",
       "      <td>177</td>\n",
       "      <td>518</td>\n",
       "      <td>947</td>\n",
       "    </tr>\n",
       "    <tr>\n",
       "      <th>1</th>\n",
       "      <td>193</td>\n",
       "      <td>915</td>\n",
       "      <td>1279</td>\n",
       "    </tr>\n",
       "    <tr>\n",
       "      <th>2</th>\n",
       "      <td>230</td>\n",
       "      <td>1457</td>\n",
       "      <td>1760</td>\n",
       "    </tr>\n",
       "    <tr>\n",
       "      <th>3</th>\n",
       "      <td>289</td>\n",
       "      <td>2874</td>\n",
       "      <td>2736</td>\n",
       "    </tr>\n",
       "    <tr>\n",
       "      <th>4</th>\n",
       "      <td>365</td>\n",
       "      <td>3858</td>\n",
       "      <td>5497</td>\n",
       "    </tr>\n",
       "  </tbody>\n",
       "</table>\n",
       "</div>"
      ],
      "text/plain": [
       "   Direct Debits (in million)  Credit Transfers (in million)  \\\n",
       "0                         177                            518   \n",
       "1                         193                            915   \n",
       "2                         230                           1457   \n",
       "3                         289                           2874   \n",
       "4                         365                           3858   \n",
       "\n",
       "   Card & e-money (in million)  \n",
       "0                          947  \n",
       "1                         1279  \n",
       "2                         1760  \n",
       "3                         2736  \n",
       "4                         5497  "
      ]
     },
     "execution_count": 11,
     "metadata": {},
     "output_type": "execute_result"
    }
   ],
   "source": [
    "x = df[[\"Direct Debits (in million)\",\"Credit Transfers (in million)\",\"Card & e-money (in million)\"]]\n",
    "y = df[[\"GDP(billions)\"]]\n",
    "x.head()"
   ]
  },
  {
   "cell_type": "code",
   "execution_count": 12,
   "metadata": {},
   "outputs": [],
   "source": [
    "from sklearn.model_selection import train_test_split\n",
    "xtrain,xtest,ytrain,ytest= train_test_split(x,y,test_size=0.2,random_state=42)\n",
    "from sklearn.linear_model import LinearRegression\n",
    "lr = LinearRegression()\n",
    "# importing regression algorithm as lr"
   ]
  },
  {
   "cell_type": "code",
   "execution_count": 13,
   "metadata": {},
   "outputs": [
    {
     "data": {
      "text/plain": [
       "LinearRegression()"
      ]
     },
     "execution_count": 13,
     "metadata": {},
     "output_type": "execute_result"
    }
   ],
   "source": [
    "lr.fit(x, y)"
   ]
  },
  {
   "cell_type": "code",
   "execution_count": 14,
   "metadata": {},
   "outputs": [
    {
     "data": {
      "text/plain": [
       "LinearRegression()"
      ]
     },
     "execution_count": 14,
     "metadata": {},
     "output_type": "execute_result"
    }
   ],
   "source": [
    "lr.fit(xtrain,ytrain)"
   ]
  },
  {
   "cell_type": "code",
   "execution_count": 15,
   "metadata": {},
   "outputs": [
    {
     "data": {
      "image/png": "[encoded data removed]",
      "text/plain": [
       "<Figure size 432x288 with 4 Axes>"
      ]
     },
     "metadata": {
      "needs_background": "light"
     },
     "output_type": "display_data"
    }
   ],
   "source": [
    "# Plot these variables\n",
    "x.hist()\n",
    "plt.show()"
   ]
  },
  {
   "cell_type": "code",
   "execution_count": 16,
   "metadata": {},
   "outputs": [
    {
     "data": {
      "image/png": "[encoded data removed]",
      "text/plain": [
       "<Figure size 432x288 with 1 Axes>"
      ]
     },
     "metadata": {
      "needs_background": "light"
     },
     "output_type": "display_data"
    },
    {
     "data": {
      "image/png": "[encoded data removed]",
      "text/plain": [
       "<Figure size 432x288 with 1 Axes>"
      ]
     },
     "metadata": {
      "needs_background": "light"
     },
     "output_type": "display_data"
    },
    {
     "data": {
      "text/plain": [
       "<function matplotlib.pyplot.show(*args, **kw)>"
      ]
     },
     "execution_count": 16,
     "metadata": {},
     "output_type": "execute_result"
    },
    {
     "data": {
      "image/png": "[encoded data removed]",
      "text/plain": [
       "<Figure size 432x288 with 1 Axes>"
      ]
     },
     "metadata": {
      "needs_background": "light"
     },
     "output_type": "display_data"
    }
   ],
   "source": [
    "# Now, lets plot each of these Credit Transfers (in million) vs GDP(billions) the , to see how linear is their relation:\n",
    "plt.scatter( x = df[\"Credit Transfers (in million)\"], y = df[\"GDP(billions)\"])\n",
    "plt.xlabel(\"Credit Transfers (in million)\")\n",
    "plt.ylabel(\"GDP(billions)\")\n",
    "plt.show()\n",
    "plt.scatter(x = df[\"Card & e-money (in million)\"], y = df[\"GDP(billions)\"])\n",
    "plt.xlabel(\"Card & e-money (in million)\")\n",
    "plt.ylabel(\"GDP(billions)\")\n",
    "plt.show()\n",
    "plt.scatter(x = df[\"Direct Debits (in million)\"], y = df[\"GDP(billions)\"])\n",
    "plt.xlabel(\"Direct Debits (in million)\")\n",
    "plt.ylabel(\"GDP(billions)\")\n",
    "plt.show"
   ]
  },
  {
   "cell_type": "markdown",
   "metadata": {},
   "source": [
    "## Unlike regression we are providing x value with multiple variables for accurate prediction of y value, this makes it *Multiple regression*"
   ]
  },
  {
   "cell_type": "code",
   "execution_count": 17,
   "metadata": {},
   "outputs": [
    {
     "data": {
      "text/html": [
       "<div>\n",
       "<style scoped>\n",
       "    .dataframe tbody tr th:only-of-type {\n",
       "        vertical-align: middle;\n",
       "    }\n",
       "\n",
       "    .dataframe tbody tr th {\n",
       "        vertical-align: top;\n",
       "    }\n",
       "\n",
       "    .dataframe thead th {\n",
       "        text-align: right;\n",
       "    }\n",
       "</style>\n",
       "<table border=\"1\" class=\"dataframe\">\n",
       "  <thead>\n",
       "    <tr style=\"text-align: right;\">\n",
       "      <th></th>\n",
       "      <th>Actual</th>\n",
       "      <th>Predicted</th>\n",
       "    </tr>\n",
       "  </thead>\n",
       "  <tbody>\n",
       "    <tr>\n",
       "      <th>0</th>\n",
       "      <td>1827.64</td>\n",
       "      <td>1869.802685</td>\n",
       "    </tr>\n",
       "    <tr>\n",
       "      <th>1</th>\n",
       "      <td>1856.72</td>\n",
       "      <td>1901.717720</td>\n",
       "    </tr>\n",
       "    <tr>\n",
       "      <th>2</th>\n",
       "      <td>2039.13</td>\n",
       "      <td>1961.516992</td>\n",
       "    </tr>\n",
       "    <tr>\n",
       "      <th>3</th>\n",
       "      <td>2103.59</td>\n",
       "      <td>2055.069261</td>\n",
       "    </tr>\n",
       "    <tr>\n",
       "      <th>4</th>\n",
       "      <td>2294.12</td>\n",
       "      <td>2370.291317</td>\n",
       "    </tr>\n",
       "    <tr>\n",
       "      <th>5</th>\n",
       "      <td>2651.46</td>\n",
       "      <td>2586.387888</td>\n",
       "    </tr>\n",
       "    <tr>\n",
       "      <th>6</th>\n",
       "      <td>2701.11</td>\n",
       "      <td>2736.856944</td>\n",
       "    </tr>\n",
       "    <tr>\n",
       "      <th>7</th>\n",
       "      <td>2870.50</td>\n",
       "      <td>2862.627194</td>\n",
       "    </tr>\n",
       "  </tbody>\n",
       "</table>\n",
       "</div>"
      ],
      "text/plain": [
       "    Actual    Predicted\n",
       "0  1827.64  1869.802685\n",
       "1  1856.72  1901.717720\n",
       "2  2039.13  1961.516992\n",
       "3  2103.59  2055.069261\n",
       "4  2294.12  2370.291317\n",
       "5  2651.46  2586.387888\n",
       "6  2701.11  2736.856944\n",
       "7  2870.50  2862.627194"
      ]
     },
     "execution_count": 17,
     "metadata": {},
     "output_type": "execute_result"
    }
   ],
   "source": [
    "# Prediction\n",
    "x = df[[\"Direct Debits (in million)\",\"Credit Transfers (in million)\",\"Card & e-money (in million)\"]]\n",
    "y = df[\"GDP(billions)\"]\n",
    "lr = LinearRegression()\n",
    "lr.fit(x, y)\n",
    "yhat = lr.predict(x)\n",
    "pd.DataFrame({\"Actual\": y, \"Predicted\": yhat}).head(9)"
   ]
  },
  {
   "cell_type": "markdown",
   "metadata": {},
   "source": [
    "# prediction of GDP with the help of other types of digital-payments "
   ]
  },
  {
   "cell_type": "code",
   "execution_count": 18,
   "metadata": {},
   "outputs": [
    {
     "name": "stdout",
     "output_type": "stream",
     "text": [
      "Direct Debits (in million), Credit Transfers (in million), Card & e-money (in million), The data of these three payments in 2020 are 639 16233 9677\n",
      "The GDP to be predicted in 2020 is  2517.8362419062255 in Billions\n"
     ]
    }
   ],
   "source": [
    "print(\"Direct Debits (in million),\",\"Credit Transfers (in million),\",\"Card & e-money (in million),\",\"The data of these three payments in 2020 are\",639,16233,9677)\n",
    "print(\"The GDP to be predicted in 2020 is \",lr.predict([[639,16233,9677]])[0] , \"in Billions\")"
   ]
  },
  {
   "cell_type": "code",
   "execution_count": 19,
   "metadata": {},
   "outputs": [
    {
     "data": {
      "text/html": [
       "<div>\n",
       "<style scoped>\n",
       "    .dataframe tbody tr th:only-of-type {\n",
       "        vertical-align: middle;\n",
       "    }\n",
       "\n",
       "    .dataframe tbody tr th {\n",
       "        vertical-align: top;\n",
       "    }\n",
       "\n",
       "    .dataframe thead th {\n",
       "        text-align: right;\n",
       "    }\n",
       "</style>\n",
       "<table border=\"1\" class=\"dataframe\">\n",
       "  <thead>\n",
       "    <tr style=\"text-align: right;\">\n",
       "      <th></th>\n",
       "      <th>Actual</th>\n",
       "      <th>Predicted</th>\n",
       "    </tr>\n",
       "  </thead>\n",
       "  <tbody>\n",
       "    <tr>\n",
       "      <th>0</th>\n",
       "      <td>1827.64</td>\n",
       "      <td>1945.226999</td>\n",
       "    </tr>\n",
       "    <tr>\n",
       "      <th>1</th>\n",
       "      <td>1856.72</td>\n",
       "      <td>1971.358433</td>\n",
       "    </tr>\n",
       "    <tr>\n",
       "      <th>2</th>\n",
       "      <td>2039.13</td>\n",
       "      <td>2008.538728</td>\n",
       "    </tr>\n",
       "    <tr>\n",
       "      <th>3</th>\n",
       "      <td>2103.59</td>\n",
       "      <td>2094.544466</td>\n",
       "    </tr>\n",
       "    <tr>\n",
       "      <th>4</th>\n",
       "      <td>2294.12</td>\n",
       "      <td>2228.568906</td>\n",
       "    </tr>\n",
       "    <tr>\n",
       "      <th>5</th>\n",
       "      <td>2651.46</td>\n",
       "      <td>2396.792202</td>\n",
       "    </tr>\n",
       "    <tr>\n",
       "      <th>6</th>\n",
       "      <td>2701.11</td>\n",
       "      <td>2702.337059</td>\n",
       "    </tr>\n",
       "    <tr>\n",
       "      <th>7</th>\n",
       "      <td>2870.50</td>\n",
       "      <td>2996.903206</td>\n",
       "    </tr>\n",
       "  </tbody>\n",
       "</table>\n",
       "</div>"
      ],
      "text/plain": [
       "    Actual    Predicted\n",
       "0  1827.64  1945.226999\n",
       "1  1856.72  1971.358433\n",
       "2  2039.13  2008.538728\n",
       "3  2103.59  2094.544466\n",
       "4  2294.12  2228.568906\n",
       "5  2651.46  2396.792202\n",
       "6  2701.11  2702.337059\n",
       "7  2870.50  2996.903206"
      ]
     },
     "execution_count": 19,
     "metadata": {},
     "output_type": "execute_result"
    }
   ],
   "source": [
    "# Prediction\n",
    "x = df[[\"Total digital-payments\"]]\n",
    "y = df[\"GDP(billions)\"]\n",
    "lr = LinearRegression()\n",
    "lr.fit(x, y)\n",
    "yhat = lr.predict(x)\n",
    "pd.DataFrame({\"Actual\": y, \"Predicted\": yhat}).head(9)"
   ]
  },
  {
   "cell_type": "code",
   "execution_count": 20,
   "metadata": {},
   "outputs": [
    {
     "name": "stdout",
     "output_type": "stream",
     "text": [
      "The GDP to be predicted in 2020 with as single variable digital payment  [2541.40951905] in Billions\n"
     ]
    }
   ],
   "source": [
    "print(\"The GDP to be predicted in 2020 with as single variable digital payment \",lr.predict([[18639]]), \"in Billions\")"
   ]
  },
  {
   "cell_type": "code",
   "execution_count": 21,
   "metadata": {},
   "outputs": [
    {
     "data": {
      "image/png": "[encoded data removed]",
      "text/plain": [
       "<Figure size 432x288 with 1 Axes>"
      ]
     },
     "metadata": {
      "needs_background": "light"
     },
     "output_type": "display_data"
    }
   ],
   "source": [
    "# Plot\n",
    "plt.scatter(x, y, color = \"blue\")\n",
    "plt.plot(x, yhat, \"r\")\n",
    "plt.xlabel(\"Total digital-payments\")\n",
    "plt.ylabel(\"GDP(billions)\")\n",
    "plt.show()"
   ]
  },
  {
   "cell_type": "markdown",
   "metadata": {},
   "source": [
    "## accuracy_score calculation "
   ]
  },
  {
   "cell_type": "code",
   "execution_count": 22,
   "metadata": {},
   "outputs": [
    {
     "data": {
      "text/plain": [
       "0.9004049052135729"
      ]
     },
     "execution_count": 22,
     "metadata": {},
     "output_type": "execute_result"
    }
   ],
   "source": [
    "# Evaluation\n",
    "r_squared = lr.score(x, y)\n",
    "r_squared"
   ]
  }
 ],
 "metadata": {
  "kernelspec": {
   "display_name": "Python 3",
   "language": "python",
   "name": "python3"
  },
  "language_info": {
   "codemirror_mode": {
    "name": "ipython",
    "version": 3
   },
   "file_extension": ".py",
   "mimetype": "text/x-python",
   "name": "python",
   "nbconvert_exporter": "python",
   "pygments_lexer": "ipython3",
   "version": "3.8.3"
  }
 },
 "nbformat": 4,
 "nbformat_minor": 4
}
