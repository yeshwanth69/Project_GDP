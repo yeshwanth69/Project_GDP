{
 "cells": [
  {
   "cell_type": "code",
   "execution_count": 1,
   "metadata": {},
   "outputs": [],
   "source": [
    "import numpy as np\n",
    "import pandas as pd\n",
    "import matplotlib.pyplot as plt\n",
    "import seaborn as sns\n",
    "from sklearn.model_selection import train_test_split\n",
    "from sklearn import linear_model\n",
    "from sklearn.metrics import mean_squared_error, r2_score, mean_absolute_error\n",
    "from scipy import stats\n",
    "import statsmodels.api as sm\n",
    "from statsmodels.stats import diagnostic as diag\n",
    "from statsmodels.stats.outliers_influence import variance_inflation_factor\n",
    "from sklearn.preprocessing import PolynomialFeatures\n",
    "from sklearn.preprocessing import StandardScaler\n",
    "from sklearn.pipeline import Pipeline\n",
    "import warnings"
   ]
  },
  {
   "cell_type": "code",
   "execution_count": 2,
   "metadata": {},
   "outputs": [
    {
     "data": {
      "text/html": [
       "<div>\n",
       "<style scoped>\n",
       "    .dataframe tbody tr th:only-of-type {\n",
       "        vertical-align: middle;\n",
       "    }\n",
       "\n",
       "    .dataframe tbody tr th {\n",
       "        vertical-align: top;\n",
       "    }\n",
       "\n",
       "    .dataframe thead th {\n",
       "        text-align: right;\n",
       "    }\n",
       "</style>\n",
       "<table border=\"1\" class=\"dataframe\">\n",
       "  <thead>\n",
       "    <tr style=\"text-align: right;\">\n",
       "      <th></th>\n",
       "      <th>Year</th>\n",
       "      <th>GDP(billions)</th>\n",
       "      <th>Human Development Index</th>\n",
       "      <th>Inflation Index</th>\n",
       "      <th>Credit Transfers (in million)</th>\n",
       "      <th>Direct Debits (in million)</th>\n",
       "      <th>Cheques (in million)</th>\n",
       "      <th>Card &amp; e-money (in million)</th>\n",
       "      <th>Total digital-payments</th>\n",
       "    </tr>\n",
       "  </thead>\n",
       "  <tbody>\n",
       "    <tr>\n",
       "      <th>0</th>\n",
       "      <td>2012</td>\n",
       "      <td>1827.64</td>\n",
       "      <td>0.600</td>\n",
       "      <td>108.983</td>\n",
       "      <td>518</td>\n",
       "      <td>177</td>\n",
       "      <td>1313</td>\n",
       "      <td>947</td>\n",
       "      <td>1642</td>\n",
       "    </tr>\n",
       "    <tr>\n",
       "      <th>1</th>\n",
       "      <td>2013</td>\n",
       "      <td>1856.72</td>\n",
       "      <td>0.607</td>\n",
       "      <td>119.227</td>\n",
       "      <td>915</td>\n",
       "      <td>193</td>\n",
       "      <td>1257</td>\n",
       "      <td>1279</td>\n",
       "      <td>2387</td>\n",
       "    </tr>\n",
       "    <tr>\n",
       "      <th>2</th>\n",
       "      <td>2014</td>\n",
       "      <td>2039.13</td>\n",
       "      <td>0.616</td>\n",
       "      <td>126.142</td>\n",
       "      <td>1457</td>\n",
       "      <td>230</td>\n",
       "      <td>1197</td>\n",
       "      <td>1760</td>\n",
       "      <td>3447</td>\n",
       "    </tr>\n",
       "    <tr>\n",
       "      <th>3</th>\n",
       "      <td>2015</td>\n",
       "      <td>2103.59</td>\n",
       "      <td>0.624</td>\n",
       "      <td>132.323</td>\n",
       "      <td>2874</td>\n",
       "      <td>289</td>\n",
       "      <td>1096</td>\n",
       "      <td>2736</td>\n",
       "      <td>5899</td>\n",
       "    </tr>\n",
       "    <tr>\n",
       "      <th>4</th>\n",
       "      <td>2016</td>\n",
       "      <td>2294.12</td>\n",
       "      <td>0.636</td>\n",
       "      <td>138.278</td>\n",
       "      <td>3858</td>\n",
       "      <td>365</td>\n",
       "      <td>1207</td>\n",
       "      <td>5497</td>\n",
       "      <td>9720</td>\n",
       "    </tr>\n",
       "    <tr>\n",
       "      <th>5</th>\n",
       "      <td>2017</td>\n",
       "      <td>2651.46</td>\n",
       "      <td>0.640</td>\n",
       "      <td>143.259</td>\n",
       "      <td>5879</td>\n",
       "      <td>379</td>\n",
       "      <td>1171</td>\n",
       "      <td>8258</td>\n",
       "      <td>14516</td>\n",
       "    </tr>\n",
       "    <tr>\n",
       "      <th>6</th>\n",
       "      <td>2018</td>\n",
       "      <td>2701.11</td>\n",
       "      <td>0.642</td>\n",
       "      <td>148.171</td>\n",
       "      <td>11854</td>\n",
       "      <td>534</td>\n",
       "      <td>1124</td>\n",
       "      <td>10839</td>\n",
       "      <td>23227</td>\n",
       "    </tr>\n",
       "    <tr>\n",
       "      <th>7</th>\n",
       "      <td>2019</td>\n",
       "      <td>2870.50</td>\n",
       "      <td>0.645</td>\n",
       "      <td>155.227</td>\n",
       "      <td>18486</td>\n",
       "      <td>826</td>\n",
       "      <td>1070</td>\n",
       "      <td>12313</td>\n",
       "      <td>31625</td>\n",
       "    </tr>\n",
       "  </tbody>\n",
       "</table>\n",
       "</div>"
      ],
      "text/plain": [
       "   Year  GDP(billions)  Human Development Index  Inflation Index  \\\n",
       "0  2012        1827.64                    0.600          108.983   \n",
       "1  2013        1856.72                    0.607          119.227   \n",
       "2  2014        2039.13                    0.616          126.142   \n",
       "3  2015        2103.59                    0.624          132.323   \n",
       "4  2016        2294.12                    0.636          138.278   \n",
       "5  2017        2651.46                    0.640          143.259   \n",
       "6  2018        2701.11                    0.642          148.171   \n",
       "7  2019        2870.50                    0.645          155.227   \n",
       "\n",
       "   Credit Transfers (in million)  Direct Debits (in million)  \\\n",
       "0                            518                         177   \n",
       "1                            915                         193   \n",
       "2                           1457                         230   \n",
       "3                           2874                         289   \n",
       "4                           3858                         365   \n",
       "5                           5879                         379   \n",
       "6                          11854                         534   \n",
       "7                          18486                         826   \n",
       "\n",
       "   Cheques (in million)  Card & e-money (in million)  Total digital-payments  \n",
       "0                  1313                          947                    1642  \n",
       "1                  1257                         1279                    2387  \n",
       "2                  1197                         1760                    3447  \n",
       "3                  1096                         2736                    5899  \n",
       "4                  1207                         5497                    9720  \n",
       "5                  1171                         8258                   14516  \n",
       "6                  1124                        10839                   23227  \n",
       "7                  1070                        12313                   31625  "
      ]
     },
     "execution_count": 2,
     "metadata": {},
     "output_type": "execute_result"
    }
   ],
   "source": [
    "#The below code is used to load the dataset.\n",
    "data = pd.read_excel('IND.xlsx')\n",
    "data"
   ]
  },
  {
   "cell_type": "code",
   "execution_count": 3,
   "metadata": {},
   "outputs": [],
   "source": [
    "%matplotlib inline"
   ]
  },
  {
   "cell_type": "code",
   "execution_count": 4,
   "metadata": {},
   "outputs": [
    {
     "data": {
      "text/html": [
       "<div>\n",
       "<style scoped>\n",
       "    .dataframe tbody tr th:only-of-type {\n",
       "        vertical-align: middle;\n",
       "    }\n",
       "\n",
       "    .dataframe tbody tr th {\n",
       "        vertical-align: top;\n",
       "    }\n",
       "\n",
       "    .dataframe thead th {\n",
       "        text-align: right;\n",
       "    }\n",
       "</style>\n",
       "<table border=\"1\" class=\"dataframe\">\n",
       "  <thead>\n",
       "    <tr style=\"text-align: right;\">\n",
       "      <th></th>\n",
       "      <th>Year</th>\n",
       "      <th>GDP(billions)</th>\n",
       "      <th>Human Development Index</th>\n",
       "      <th>Inflation Index</th>\n",
       "      <th>Credit Transfers (in million)</th>\n",
       "      <th>Direct Debits (in million)</th>\n",
       "      <th>Cheques (in million)</th>\n",
       "      <th>Card &amp; e-money (in million)</th>\n",
       "      <th>Total digital-payments</th>\n",
       "    </tr>\n",
       "  </thead>\n",
       "  <tbody>\n",
       "    <tr>\n",
       "      <th>Year</th>\n",
       "      <td>1.000000</td>\n",
       "      <td>0.980892</td>\n",
       "      <td>0.977259</td>\n",
       "      <td>0.994320</td>\n",
       "      <td>0.896983</td>\n",
       "      <td>0.910004</td>\n",
       "      <td>-0.830202</td>\n",
       "      <td>0.966355</td>\n",
       "      <td>0.939568</td>\n",
       "    </tr>\n",
       "    <tr>\n",
       "      <th>GDP(billions)</th>\n",
       "      <td>0.980892</td>\n",
       "      <td>1.000000</td>\n",
       "      <td>0.949142</td>\n",
       "      <td>0.960690</td>\n",
       "      <td>0.900262</td>\n",
       "      <td>0.901306</td>\n",
       "      <td>-0.750745</td>\n",
       "      <td>0.984692</td>\n",
       "      <td>0.948897</td>\n",
       "    </tr>\n",
       "    <tr>\n",
       "      <th>Human Development Index</th>\n",
       "      <td>0.977259</td>\n",
       "      <td>0.949142</td>\n",
       "      <td>1.000000</td>\n",
       "      <td>0.982180</td>\n",
       "      <td>0.789434</td>\n",
       "      <td>0.818752</td>\n",
       "      <td>-0.790220</td>\n",
       "      <td>0.914561</td>\n",
       "      <td>0.853815</td>\n",
       "    </tr>\n",
       "    <tr>\n",
       "      <th>Inflation Index</th>\n",
       "      <td>0.994320</td>\n",
       "      <td>0.960690</td>\n",
       "      <td>0.982180</td>\n",
       "      <td>1.000000</td>\n",
       "      <td>0.864751</td>\n",
       "      <td>0.885927</td>\n",
       "      <td>-0.854126</td>\n",
       "      <td>0.935953</td>\n",
       "      <td>0.907768</td>\n",
       "    </tr>\n",
       "    <tr>\n",
       "      <th>Credit Transfers (in million)</th>\n",
       "      <td>0.896983</td>\n",
       "      <td>0.900262</td>\n",
       "      <td>0.789434</td>\n",
       "      <td>0.864751</td>\n",
       "      <td>1.000000</td>\n",
       "      <td>0.990114</td>\n",
       "      <td>-0.742090</td>\n",
       "      <td>0.939454</td>\n",
       "      <td>0.989862</td>\n",
       "    </tr>\n",
       "    <tr>\n",
       "      <th>Direct Debits (in million)</th>\n",
       "      <td>0.910004</td>\n",
       "      <td>0.901306</td>\n",
       "      <td>0.818752</td>\n",
       "      <td>0.885927</td>\n",
       "      <td>0.990114</td>\n",
       "      <td>1.000000</td>\n",
       "      <td>-0.758582</td>\n",
       "      <td>0.930709</td>\n",
       "      <td>0.980693</td>\n",
       "    </tr>\n",
       "    <tr>\n",
       "      <th>Cheques (in million)</th>\n",
       "      <td>-0.830202</td>\n",
       "      <td>-0.750745</td>\n",
       "      <td>-0.790220</td>\n",
       "      <td>-0.854126</td>\n",
       "      <td>-0.742090</td>\n",
       "      <td>-0.758582</td>\n",
       "      <td>1.000000</td>\n",
       "      <td>-0.708750</td>\n",
       "      <td>-0.739843</td>\n",
       "    </tr>\n",
       "    <tr>\n",
       "      <th>Card &amp; e-money (in million)</th>\n",
       "      <td>0.966355</td>\n",
       "      <td>0.984692</td>\n",
       "      <td>0.914561</td>\n",
       "      <td>0.935953</td>\n",
       "      <td>0.939454</td>\n",
       "      <td>0.930709</td>\n",
       "      <td>-0.708750</td>\n",
       "      <td>1.000000</td>\n",
       "      <td>0.978592</td>\n",
       "    </tr>\n",
       "    <tr>\n",
       "      <th>Total digital-payments</th>\n",
       "      <td>0.939568</td>\n",
       "      <td>0.948897</td>\n",
       "      <td>0.853815</td>\n",
       "      <td>0.907768</td>\n",
       "      <td>0.989862</td>\n",
       "      <td>0.980693</td>\n",
       "      <td>-0.739843</td>\n",
       "      <td>0.978592</td>\n",
       "      <td>1.000000</td>\n",
       "    </tr>\n",
       "  </tbody>\n",
       "</table>\n",
       "</div>"
      ],
      "text/plain": [
       "                                   Year  GDP(billions)  \\\n",
       "Year                           1.000000       0.980892   \n",
       "GDP(billions)                  0.980892       1.000000   \n",
       "Human Development Index        0.977259       0.949142   \n",
       "Inflation Index                0.994320       0.960690   \n",
       "Credit Transfers (in million)  0.896983       0.900262   \n",
       "Direct Debits (in million)     0.910004       0.901306   \n",
       "Cheques (in million)          -0.830202      -0.750745   \n",
       "Card & e-money (in million)    0.966355       0.984692   \n",
       "Total digital-payments         0.939568       0.948897   \n",
       "\n",
       "                               Human Development Index  Inflation Index  \\\n",
       "Year                                          0.977259         0.994320   \n",
       "GDP(billions)                                 0.949142         0.960690   \n",
       "Human Development Index                       1.000000         0.982180   \n",
       "Inflation Index                               0.982180         1.000000   \n",
       "Credit Transfers (in million)                 0.789434         0.864751   \n",
       "Direct Debits (in million)                    0.818752         0.885927   \n",
       "Cheques (in million)                         -0.790220        -0.854126   \n",
       "Card & e-money (in million)                   0.914561         0.935953   \n",
       "Total digital-payments                        0.853815         0.907768   \n",
       "\n",
       "                               Credit Transfers (in million)  \\\n",
       "Year                                                0.896983   \n",
       "GDP(billions)                                       0.900262   \n",
       "Human Development Index                             0.789434   \n",
       "Inflation Index                                     0.864751   \n",
       "Credit Transfers (in million)                       1.000000   \n",
       "Direct Debits (in million)                          0.990114   \n",
       "Cheques (in million)                               -0.742090   \n",
       "Card & e-money (in million)                         0.939454   \n",
       "Total digital-payments                              0.989862   \n",
       "\n",
       "                               Direct Debits (in million)  \\\n",
       "Year                                             0.910004   \n",
       "GDP(billions)                                    0.901306   \n",
       "Human Development Index                          0.818752   \n",
       "Inflation Index                                  0.885927   \n",
       "Credit Transfers (in million)                    0.990114   \n",
       "Direct Debits (in million)                       1.000000   \n",
       "Cheques (in million)                            -0.758582   \n",
       "Card & e-money (in million)                      0.930709   \n",
       "Total digital-payments                           0.980693   \n",
       "\n",
       "                               Cheques (in million)  \\\n",
       "Year                                      -0.830202   \n",
       "GDP(billions)                             -0.750745   \n",
       "Human Development Index                   -0.790220   \n",
       "Inflation Index                           -0.854126   \n",
       "Credit Transfers (in million)             -0.742090   \n",
       "Direct Debits (in million)                -0.758582   \n",
       "Cheques (in million)                       1.000000   \n",
       "Card & e-money (in million)               -0.708750   \n",
       "Total digital-payments                    -0.739843   \n",
       "\n",
       "                               Card & e-money (in million)  \\\n",
       "Year                                              0.966355   \n",
       "GDP(billions)                                     0.984692   \n",
       "Human Development Index                           0.914561   \n",
       "Inflation Index                                   0.935953   \n",
       "Credit Transfers (in million)                     0.939454   \n",
       "Direct Debits (in million)                        0.930709   \n",
       "Cheques (in million)                             -0.708750   \n",
       "Card & e-money (in million)                       1.000000   \n",
       "Total digital-payments                            0.978592   \n",
       "\n",
       "                               Total digital-payments  \n",
       "Year                                         0.939568  \n",
       "GDP(billions)                                0.948897  \n",
       "Human Development Index                      0.853815  \n",
       "Inflation Index                              0.907768  \n",
       "Credit Transfers (in million)                0.989862  \n",
       "Direct Debits (in million)                   0.980693  \n",
       "Cheques (in million)                        -0.739843  \n",
       "Card & e-money (in million)                  0.978592  \n",
       "Total digital-payments                       1.000000  "
      ]
     },
     "execution_count": 4,
     "metadata": {},
     "output_type": "execute_result"
    }
   ],
   "source": [
    "corr = data.corr().iloc[0:9,0:9]\n",
    "corr"
   ]
  },
  {
   "cell_type": "code",
   "execution_count": 5,
   "metadata": {},
   "outputs": [],
   "source": [
    "X= data[['Total digital-payments']].values\n",
    "y=data[['GDP(billions)']].values"
   ]
  },
  {
   "cell_type": "code",
   "execution_count": 6,
   "metadata": {},
   "outputs": [],
   "source": [
    "from sklearn.model_selection import train_test_split\n",
    "X_train, X_test, y_train, y_test = train_test_split(X, y, test_size=0.3, random_state=0)"
   ]
  },
  {
   "cell_type": "code",
   "execution_count": 7,
   "metadata": {},
   "outputs": [],
   "source": [
    "from sklearn.model_selection import train_test_split\n",
    "Xtrain,Xtest,ytrain,ytest= train_test_split(X,y,test_size=0.2,random_state=42)\n",
    "from sklearn.linear_model import LinearRegression\n",
    "lr = LinearRegression()\n",
    "# importing regression algorithm as lr"
   ]
  },
  {
   "cell_type": "code",
   "execution_count": 8,
   "metadata": {},
   "outputs": [
    {
     "data": {
      "text/plain": [
       "LinearRegression()"
      ]
     },
     "execution_count": 8,
     "metadata": {},
     "output_type": "execute_result"
    }
   ],
   "source": [
    "lr.fit(X, y)"
   ]
  },
  {
   "cell_type": "code",
   "execution_count": 9,
   "metadata": {},
   "outputs": [
    {
     "data": {
      "text/plain": [
       "array([[1759.45483974],\n",
       "       [2011.63797543],\n",
       "       [2252.63328795],\n",
       "       [2590.08518116],\n",
       "       [2214.56516865],\n",
       "       [2347.68337999],\n",
       "       [2505.10982913],\n",
       "       [2663.10033794]])"
      ]
     },
     "execution_count": 9,
     "metadata": {},
     "output_type": "execute_result"
    }
   ],
   "source": [
    "# Prediction\n",
    "X = data[['Total digital-payments']]\n",
    "y = data[['GDP(billions)']]\n",
    "\n",
    "Input = [(\"scale\", StandardScaler()), (\"polynomial\", PolynomialFeatures(degree = 2)), (\"mode\", LinearRegression())]\n",
    "pipe = Pipeline(Input)\n",
    "\n",
    "pipe.fit(X, y)\n",
    "ypipe = pipe.predict(X)\n",
    "\n",
    "ypipe[0:10]"
   ]
  },
  {
   "cell_type": "code",
   "execution_count": 10,
   "metadata": {},
   "outputs": [
    {
     "data": {
      "text/plain": [
       "LinearRegression()"
      ]
     },
     "execution_count": 10,
     "metadata": {},
     "output_type": "execute_result"
    }
   ],
   "source": [
    "#Fit the Simple Linear Regression Model\n",
    "from sklearn.linear_model import LinearRegression\n",
    "LinReg = LinearRegression()\n",
    "LinReg.fit(X_train, y_train)"
   ]
  },
  {
   "cell_type": "code",
   "execution_count": 11,
   "metadata": {},
   "outputs": [
    {
     "data": {
      "image/png": "[encoded data removed]",
      "text/plain": [
       "<Figure size 432x288 with 1 Axes>"
      ]
     },
     "metadata": {
      "needs_background": "light"
     },
     "output_type": "display_data"
    }
   ],
   "source": [
    "# Visualise the Linear Regression Result\n",
    "plt.scatter(X_train, y_train, color = 'green') \n",
    "  \n",
    "plt.plot(X_train, LinReg.predict(X_train), color = 'blue') \n",
    "plt.title('Linear Regression') \n",
    "plt.xlabel('Total digital-payments') \n",
    "plt.ylabel('GDP(billions)') \n",
    "  \n",
    "plt.show()"
   ]
  },
  {
   "cell_type": "code",
   "execution_count": 12,
   "metadata": {},
   "outputs": [
    {
     "data": {
      "text/plain": [
       "array([[1.000000e+00, 1.070000e+03, 1.144900e+06],\n",
       "       [1.000000e+00, 1.096000e+03, 1.201216e+06],\n",
       "       [1.000000e+00, 1.313000e+03, 1.723969e+06],\n",
       "       [1.000000e+00, 1.171000e+03, 1.371241e+06],\n",
       "       [1.000000e+00, 1.207000e+03, 1.456849e+06]])"
      ]
     },
     "execution_count": 12,
     "metadata": {},
     "output_type": "execute_result"
    }
   ],
   "source": [
    "# Add the polynomial term to the equation/model\n",
    "from sklearn.preprocessing import PolynomialFeatures \n",
    "  \n",
    "polynom = PolynomialFeatures(degree = 2) \n",
    "X_polynom = polynom.fit_transform(X_train) \n",
    "  \n",
    "X_polynom"
   ]
  },
  {
   "cell_type": "code",
   "execution_count": 13,
   "metadata": {},
   "outputs": [
    {
     "data": {
      "text/plain": [
       "LinearRegression()"
      ]
     },
     "execution_count": 13,
     "metadata": {},
     "output_type": "execute_result"
    }
   ],
   "source": [
    "#Fit the Polynomial Regression Model \n",
    "PolyReg = LinearRegression() \n",
    "PolyReg.fit(X_polynom, y_train)"
   ]
  },
  {
   "cell_type": "markdown",
   "metadata": {},
   "source": [
    "### Drawing a Polynomial Curve"
   ]
  },
  {
   "cell_type": "code",
   "execution_count": 14,
   "metadata": {},
   "outputs": [
    {
     "data": {
      "image/png": "[encoded data removed]",
      "text/plain": [
       "<Figure size 432x288 with 1 Axes>"
      ]
     },
     "metadata": {
      "needs_background": "light"
     },
     "output_type": "display_data"
    }
   ],
   "source": [
    "# Visualise the Polynomial Regression Results \n",
    "plt.scatter(X_train, y_train, color = 'green') \n",
    "  \n",
    "plt.plot(X_train, PolyReg.predict(polynom.fit_transform(X_train)), color = 'blue') \n",
    "plt.title('Polynomial Regression') \n",
    "plt.xlabel('Total digital-payments') \n",
    "plt.ylabel('GDP(billions)') \n",
    "  \n",
    "plt.show()"
   ]
  },
  {
   "cell_type": "code",
   "execution_count": 15,
   "metadata": {},
   "outputs": [
    {
     "name": "stdout",
     "output_type": "stream",
     "text": [
      "R-Square Error associated with Simple Linear Regression: 0.6019722150507902\n"
     ]
    }
   ],
   "source": [
    "#Predicted Height from test dataset w.r.t Simple Linear Regression\n",
    "y_predict_slr = LinReg.predict(X_test)\n",
    "\n",
    "#Model Evaluation using R-Square for Simple Linear Regression\n",
    "from sklearn import metrics\n",
    "r_square = metrics.r2_score(y_test, y_predict_slr)\n",
    "print('R-Square Error associated with Simple Linear Regression:', r_square)"
   ]
  },
  {
   "cell_type": "code",
   "execution_count": 16,
   "metadata": {},
   "outputs": [
    {
     "name": "stdout",
     "output_type": "stream",
     "text": [
      "R-Square Error associated with Polynomial Regression is: 0.4642741668123893\n"
     ]
    }
   ],
   "source": [
    "#Predicted Height from test dataset w.r.t Polynomial Regression\n",
    "y_predict_pr = PolyReg.predict(polynom.fit_transform(X_test))\n",
    "\n",
    "#Model Evaluation using R-Square for Polynomial Regression\n",
    "from sklearn import metrics\n",
    "r_square = metrics.r2_score(y_test, y_predict_pr)\n",
    "print('R-Square Error associated with Polynomial Regression is:', r_square)"
   ]
  },
  {
   "cell_type": "markdown",
   "metadata": {},
   "source": [
    "## linear regression "
   ]
  },
  {
   "cell_type": "code",
   "execution_count": 17,
   "metadata": {},
   "outputs": [
    {
     "data": {
      "text/plain": [
       "array([[3924.09918466]])"
      ]
     },
     "execution_count": 17,
     "metadata": {},
     "output_type": "execute_result"
    }
   ],
   "source": [
    "# Predicting GDP based on Total digital-payments using Linear Regression \n",
    "LinReg.predict([[18639]])"
   ]
  },
  {
   "cell_type": "markdown",
   "metadata": {},
   "source": [
    "## Polynomial regression "
   ]
  },
  {
   "cell_type": "code",
   "execution_count": 18,
   "metadata": {},
   "outputs": [
    {
     "data": {
      "text/plain": [
       "array([[548.75153648]])"
      ]
     },
     "execution_count": 18,
     "metadata": {},
     "output_type": "execute_result"
    }
   ],
   "source": [
    "# Predicting GDP based on total digital-payments using Polynomial Regression \n",
    "PolyReg.predict(polynom.fit_transform([[18639]]))"
   ]
  }
 ],
 "metadata": {
  "kernelspec": {
   "display_name": "Python 3",
   "language": "python",
   "name": "python3"
  },
  "language_info": {
   "codemirror_mode": {
    "name": "ipython",
    "version": 3
   },
   "file_extension": ".py",
   "mimetype": "text/x-python",
   "name": "python",
   "nbconvert_exporter": "python",
   "pygments_lexer": "ipython3",
   "version": "3.8.3"
  }
 },
 "nbformat": 4,
 "nbformat_minor": 4
}
